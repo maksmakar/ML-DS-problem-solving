{
 "cells": [
  {
   "cell_type": "code",
   "execution_count": 1,
   "metadata": {},
   "outputs": [],
   "source": [
    "import pandas as pd\n",
    "import numpy as np\n",
    "import matplotlib.pyplot as plt\n",
    "%matplotlib inline"
   ]
  },
  {
   "cell_type": "code",
   "execution_count": 2,
   "metadata": {},
   "outputs": [],
   "source": [
    "# читаем файлы\n",
    "facts = pd.read_excel('01_Facts.xlsx', header = None)\n",
    "data = pd.read_csv('02_Data_test.csv', sep = ';')\n",
    "devices = pd.read_csv('03_устройства.csv', sep = ',')\n",
    "event_type = pd.read_excel('04_event_type.xlsx')\n",
    "\n",
    "facts.columns = ['m1', 'm2']"
   ]
  },
  {
   "cell_type": "code",
   "execution_count": 3,
   "metadata": {},
   "outputs": [
    {
     "data": {
      "text/plain": [
       "lac                0\n",
       "cid                0\n",
       "msisdn             0\n",
       "imei           11588\n",
       "event_type         0\n",
       "tstamp             0\n",
       "long               0\n",
       "lat                0\n",
       "max_dist           0\n",
       "cell_type          0\n",
       "start_angle        0\n",
       "end_angle          0\n",
       "dtype: int64"
      ]
     },
     "execution_count": 3,
     "metadata": {},
     "output_type": "execute_result"
    }
   ],
   "source": [
    "data.isnull().sum()"
   ]
  },
  {
   "cell_type": "code",
   "execution_count": 4,
   "metadata": {},
   "outputs": [],
   "source": [
    "# Создаем новую категорию (BS в группе)\n",
    "data['lac+cid'] = data['lac'].astype('str', copy = False) + ' ' + data['cid'].astype('str', copy = False)\n",
    "data.drop('cid', axis='columns', inplace=True)\n",
    "\n",
    "data['tstamp'] = data['tstamp']/1000\n",
    "data['tstamp'] = data['tstamp'].astype('int64', copy = False) \n",
    "\n",
    "data['event_type'] = data['event_type'].astype('str', copy = False) # меняем тип на категориальный\n",
    "\n",
    "data['imei'].fillna(0, inplace = True) # импутация пропусков для дальнейших вычислений. \n",
    "# В дальнейшем создадим отдельную переменную, поэтому пока не так важно, как именно импутируем\n",
    "data['imei'] = data['imei'].astype('int64', copy = False)"
   ]
  },
  {
   "cell_type": "code",
   "execution_count": 5,
   "metadata": {},
   "outputs": [],
   "source": [
    "# подтягиваем информацию об устройствах\n",
    "data['tac'] = data['imei'].map(lambda x: int(str(x)[:8]))\n",
    "data= pd.merge(data, devices, how='left', on='tac')"
   ]
  },
  {
   "cell_type": "code",
   "execution_count": 6,
   "metadata": {},
   "outputs": [
    {
     "name": "stdout",
     "output_type": "stream",
     "text": [
      "<class 'pandas.core.frame.DataFrame'>\n",
      "Int64Index: 174123 entries, 0 to 174122\n",
      "Data columns (total 16 columns):\n",
      "lac            174123 non-null int64\n",
      "msisdn         174123 non-null int64\n",
      "imei           174123 non-null int64\n",
      "event_type     174123 non-null object\n",
      "tstamp         174123 non-null int64\n",
      "long           174123 non-null float64\n",
      "lat            174123 non-null float64\n",
      "max_dist       174123 non-null int64\n",
      "cell_type      174123 non-null object\n",
      "start_angle    174123 non-null float64\n",
      "end_angle      174123 non-null float64\n",
      "lac+cid        174123 non-null object\n",
      "tac            174123 non-null int64\n",
      "vendor         134011 non-null object\n",
      "platform       134011 non-null object\n",
      "type           134011 non-null object\n",
      "dtypes: float64(4), int64(6), object(6)\n",
      "memory usage: 22.6+ MB\n"
     ]
    }
   ],
   "source": [
    "data.info()"
   ]
  },
  {
   "cell_type": "code",
   "execution_count": 7,
   "metadata": {},
   "outputs": [],
   "source": [
    "# В данных переменных довольно много пропусков, создадим отдельную категорию для них\n",
    "for i in ['vendor', 'platform', 'type']:\n",
    "    data[i].fillna('OTHER', inplace = True)"
   ]
  },
  {
   "cell_type": "code",
   "execution_count": 8,
   "metadata": {},
   "outputs": [],
   "source": [
    "# Кодирование категориальных переменных частотой\n",
    "for i in ['lac', 'lac+cid', 'imei', 'event_type', 'cell_type', 'vendor', 'platform', 'type']:\n",
    "    freq_encoding = data[i].value_counts() / len(data[i])\n",
    "    data[i + 'freq'] = data[i].map(freq_encoding)\n",
    "\n",
    "data.drop(['lac', 'lac+cid', 'event_type', 'cell_type', 'platform', 'type'], axis = 1, inplace = True)"
   ]
  },
  {
   "cell_type": "code",
   "execution_count": 9,
   "metadata": {},
   "outputs": [],
   "source": [
    "# импутируем пропущнные значения в категориях imei и vendor средней частотой\n",
    "k = int(data[data['imei'] != 0].groupby(['imei'])['imei'].count().mean())/len(data['imei'])\n",
    "data.loc[(data['imei'] == 0), 'imeifreq'] = k\n",
    "\n",
    "k = int(data[data['vendor'] != 'OTHER'].groupby(['vendor'])['vendor'].count().mean())/len(data['vendor'])\n",
    "data.loc[(data['vendor'] == 'OTHER'), 'vendorfreq'] = k"
   ]
  },
  {
   "cell_type": "code",
   "execution_count": 10,
   "metadata": {},
   "outputs": [],
   "source": [
    "data.drop(['imei', 'vendor', 'tac'], axis = 1, inplace = True)"
   ]
  },
  {
   "cell_type": "code",
   "execution_count": 11,
   "metadata": {},
   "outputs": [],
   "source": [
    "# Создаем аггрегированный датасет\n",
    "Table = data.groupby('msisdn').agg({'tstamp': ['min', 'max', 'mean'], \n",
    "                                    'long': ['min', 'max', 'mean'], \n",
    "                                    'lat' : ['min', 'max', 'mean'],\n",
    "                                    'max_dist' : ['min', 'max', 'mean'],\n",
    "                                    'start_angle' : ['min', 'max', 'mean'],\n",
    "                                    'end_angle' : ['min', 'max', 'mean'],\n",
    "                                    'lacfreq' : ['min', 'max'],\n",
    "                                    'lac+cidfreq' : ['min', 'max'],\n",
    "                                    'imeifreq' : ['min', 'max'],\n",
    "                                    'event_typefreq' : 'mean',\n",
    "                                    'cell_typefreq' : 'mean',\n",
    "                                    'vendorfreq' : 'max', \n",
    "                                    'platformfreq': ['max', 'mean'],\n",
    "                                    'typefreq': ['max', 'mean']})"
   ]
  },
  {
   "cell_type": "code",
   "execution_count": 12,
   "metadata": {},
   "outputs": [],
   "source": [
    "T = Table.reset_index(col_level = 1)"
   ]
  },
  {
   "cell_type": "code",
   "execution_count": 13,
   "metadata": {},
   "outputs": [],
   "source": [
    "T.columns = T.columns.droplevel()"
   ]
  },
  {
   "cell_type": "code",
   "execution_count": 14,
   "metadata": {},
   "outputs": [],
   "source": [
    "# Для дальнейшего расчета векторного расстояния между объектами нам необходимо привести данные к одному масштабу\n",
    "from sklearn.preprocessing import StandardScaler"
   ]
  },
  {
   "cell_type": "code",
   "execution_count": 15,
   "metadata": {},
   "outputs": [],
   "source": [
    "msisdn = T['msisdn']\n",
    "T.drop('msisdn', axis = 1, inplace = True)\n",
    "\n",
    "scaler = StandardScaler()\n",
    "scaler.fit(T)\n",
    "T_scaler = scaler.transform(T)"
   ]
  },
  {
   "cell_type": "code",
   "execution_count": 16,
   "metadata": {},
   "outputs": [],
   "source": [
    "F = pd.DataFrame(T_scaler, index = range(T_scaler.shape[0]), columns = range(T_scaler.shape[1]))"
   ]
  },
  {
   "cell_type": "code",
   "execution_count": 17,
   "metadata": {},
   "outputs": [],
   "source": [
    "# Расчитываем векторное расстояние до каждого объекта с помощью алгоритма KNN\n",
    "from sklearn.neighbors import NearestNeighbors"
   ]
  },
  {
   "cell_type": "code",
   "execution_count": 18,
   "metadata": {},
   "outputs": [],
   "source": [
    "nbrs = NearestNeighbors(n_neighbors=2361, algorithm='auto').fit(F)"
   ]
  },
  {
   "cell_type": "code",
   "execution_count": 19,
   "metadata": {},
   "outputs": [],
   "source": [
    "dist, ind = nbrs.kneighbors(F)"
   ]
  },
  {
   "cell_type": "code",
   "execution_count": 20,
   "metadata": {},
   "outputs": [
    {
     "data": {
      "text/plain": [
       "array([[ 0.        ,  3.31556613,  5.65467319, ..., 24.70130994,\n",
       "        30.46333223, 43.95834274],\n",
       "       [ 0.        ,  2.50259563,  2.52905437, ..., 22.20253721,\n",
       "        28.20229769, 42.86226913],\n",
       "       [ 0.        ,  3.10710569,  3.48388059, ..., 22.10769699,\n",
       "        27.81236531, 42.85843232],\n",
       "       ...,\n",
       "       [ 0.        ,  2.08399996,  2.11834897, ..., 21.96702121,\n",
       "        28.02991442, 42.96971663],\n",
       "       [ 0.        ,  5.51587742,  7.36692348, ..., 25.21983288,\n",
       "        25.49259701, 42.96716912],\n",
       "       [ 0.        ,  2.0533891 ,  2.62953738, ..., 21.86898186,\n",
       "        27.76927126, 42.6920319 ]])"
      ]
     },
     "execution_count": 20,
     "metadata": {},
     "output_type": "execute_result"
    }
   ],
   "source": [
    "dist # Расстояние"
   ]
  },
  {
   "cell_type": "code",
   "execution_count": 21,
   "metadata": {},
   "outputs": [
    {
     "data": {
      "text/plain": [
       "array([[   0, 1030,  758, ...,  229, 1896,  832],\n",
       "       [   1,  823,  478, ...,  298, 1896,  832],\n",
       "       [   2, 1477, 1975, ...,  298, 1896,  832],\n",
       "       ...,\n",
       "       [2358, 1597, 1989, ...,  229, 1896,  832],\n",
       "       [2359,   80, 2051, ..., 1372,  229,  832],\n",
       "       [2360,  140, 1808, ...,  298, 1896,  832]], dtype=int64)"
      ]
     },
     "execution_count": 21,
     "metadata": {},
     "output_type": "execute_result"
    }
   ],
   "source": [
    "ind # Индексы"
   ]
  },
  {
   "cell_type": "code",
   "execution_count": 22,
   "metadata": {},
   "outputs": [],
   "source": [
    "#Список индексов телефонов, которые принаждежат одному абоненту - пара значений\n",
    "index_number = []\n",
    "for i in range(121):\n",
    "    a = facts['m1'][i]\n",
    "    b = facts['m2'][i] \n",
    "    c = list(msisdn.loc[(msisdn == a) | (msisdn == b)].index)\n",
    "    index_number.append(c)"
   ]
  },
  {
   "cell_type": "code",
   "execution_count": 23,
   "metadata": {},
   "outputs": [],
   "source": [
    "# для упрощения расчетов уберем из выборки тех, у кого меньше 2 номеров\n",
    "for i in index_number:\n",
    "    if len(i) < 2:\n",
    "        index_number.remove(i)"
   ]
  },
  {
   "cell_type": "code",
   "execution_count": 24,
   "metadata": {},
   "outputs": [],
   "source": [
    "# расстояния между абонентами, предположительно являющимися одним и тем же лицом\n",
    "dist_twice_abonents = []\n",
    "for i in index_number:\n",
    "    for j in list(ind[i[0]]):\n",
    "        if j == i[1]:\n",
    "            d = dist[i[0]][list(ind[i[0]]).index(i[1])]\n",
    "            dist_twice_abonents.append(d)"
   ]
  },
  {
   "cell_type": "code",
   "execution_count": 25,
   "metadata": {},
   "outputs": [],
   "source": [
    "import statistics as s\n",
    "from scipy.stats import norm\n",
    "import seaborn as sns"
   ]
  },
  {
   "cell_type": "code",
   "execution_count": 26,
   "metadata": {},
   "outputs": [],
   "source": [
    "# функция для формирования массивов расстояний в случайных группах абонентов\n",
    "def gen_list_rand_abonents(ind, dist, i, j, z):\n",
    "    rand_abonents = []\n",
    "    for i in range(1, i, j):\n",
    "        k = list(ind[z]).index(i)\n",
    "        rand_abonents.append(dist[z][k]) \n",
    "    return rand_abonents"
   ]
  },
  {
   "cell_type": "code",
   "execution_count": 27,
   "metadata": {},
   "outputs": [],
   "source": [
    "# Делаем массив с несколькими случайными выборками\n",
    "list_rand_abonents = []\n",
    "for i in [100,110,120,130,140,150,160,170,180,190]:\n",
    "    r_a = gen_list_rand_abonents(ind, dist, 1000, 10, i)\n",
    "    list_rand_abonents.append(r_a)"
   ]
  },
  {
   "cell_type": "code",
   "execution_count": 28,
   "metadata": {},
   "outputs": [
    {
     "name": "stdout",
     "output_type": "stream",
     "text": [
      "среднее расстояние между SIM, принадлежащих одному лицу:\n",
      "5.821\n"
     ]
    }
   ],
   "source": [
    "print('среднее расстояние между SIM, принадлежащих одному лицу:')\n",
    "print(round(s.mean(dist_twice_abonents), 3))"
   ]
  },
  {
   "cell_type": "code",
   "execution_count": 29,
   "metadata": {},
   "outputs": [
    {
     "name": "stdout",
     "output_type": "stream",
     "text": [
      "Средние расстояния для случайных групп абонентов:\n",
      "7.452\n",
      "11.014\n",
      "8.796\n",
      "9.547\n",
      "6.298\n",
      "6.242\n",
      "6.616\n",
      "6.3\n",
      "10.546\n",
      "6.055\n"
     ]
    }
   ],
   "source": [
    "print('Средние расстояния для случайных групп абонентов:')\n",
    "for i in list_rand_abonents:\n",
    "    print(round(s.mean(i),3))"
   ]
  },
  {
   "cell_type": "code",
   "execution_count": 30,
   "metadata": {},
   "outputs": [
    {
     "data": {
      "image/png": "[encoded data removed]",
      "text/plain": [
       "<Figure size 720x504 with 1 Axes>"
      ]
     },
     "metadata": {
      "needs_background": "light"
     },
     "output_type": "display_data"
    }
   ],
   "source": [
    "# построим распределение получившихся расстояний\n",
    "fig, ax = plt.subplots(figsize=(10, 7))\n",
    "sns.distplot(dist_twice_abonents, rug=True, hist=False, axlabel='Среднее расстояние между парой SIM внутри группы', label='абоненты с 2 SIM')\n",
    "sns.distplot(list_rand_abonents[0], rug=True, hist=False, label = 'Случайные абоненты');"
   ]
  },
  {
   "cell_type": "code",
   "execution_count": 31,
   "metadata": {},
   "outputs": [],
   "source": [
    "# Cформируем список абонентов\n",
    "index_a = []\n",
    "for i in range(2361):\n",
    "    index_a.append(ind[i][1])"
   ]
  },
  {
   "cell_type": "code",
   "execution_count": 32,
   "metadata": {},
   "outputs": [],
   "source": [
    "index_a = pd.DataFrame(data = {'ind': index_a})"
   ]
  },
  {
   "cell_type": "code",
   "execution_count": 33,
   "metadata": {},
   "outputs": [],
   "source": [
    "result = pd.concat([index_a, msisdn], axis=1)"
   ]
  },
  {
   "cell_type": "code",
   "execution_count": 34,
   "metadata": {},
   "outputs": [],
   "source": [
    "result['msisdn_2'] = 0\n",
    "for i in result['ind']:\n",
    "    ms = int(result.loc[i, 'msisdn'])\n",
    "    result.loc[result['ind'] == i, 'msisdn_2'] = ms\n",
    "    \n",
    "result.drop('ind', axis = 1, inplace = True)"
   ]
  },
  {
   "cell_type": "code",
   "execution_count": 37,
   "metadata": {},
   "outputs": [],
   "source": [
    "result.to_excel('result.xlsx')"
   ]
  },
  {
   "cell_type": "code",
   "execution_count": null,
   "metadata": {},
   "outputs": [],
   "source": []
  }
 ],
 "metadata": {
  "kernelspec": {
   "display_name": "Python 3",
   "language": "python",
   "name": "python3"
  },
  "language_info": {
   "codemirror_mode": {
    "name": "ipython",
    "version": 3
   },
   "file_extension": ".py",
   "mimetype": "text/x-python",
   "name": "python",
   "nbconvert_exporter": "python",
   "pygments_lexer": "ipython3",
   "version": "3.7.3"
  }
 },
 "nbformat": 4,
 "nbformat_minor": 2
}
