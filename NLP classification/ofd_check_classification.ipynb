{
 "cells": [
  {
   "cell_type": "code",
   "execution_count": 1,
   "metadata": {},
   "outputs": [],
   "source": [
    "import pandas as pd\n",
    "import numpy as np\n",
    "import re"
   ]
  },
  {
   "cell_type": "code",
   "execution_count": 2,
   "metadata": {},
   "outputs": [
    {
     "name": "stderr",
     "output_type": "stream",
     "text": [
      "C:\\Users\\irina\\Anaconda3\\lib\\site-packages\\ipykernel_launcher.py:1: FutureWarning: read_table is deprecated, use read_csv instead.\n",
      "  \"\"\"Entry point for launching an IPython kernel.\n",
      "C:\\Users\\irina\\Anaconda3\\lib\\site-packages\\ipykernel_launcher.py:2: FutureWarning: read_table is deprecated, use read_csv instead, passing sep='\\t'.\n",
      "  \n"
     ]
    }
   ],
   "source": [
    "df = pd.read_table('training_dataset.txt', sep = '\t')\n",
    "classify = pd.read_table('test_dataset.txt')"
   ]
  },
  {
   "cell_type": "code",
   "execution_count": 3,
   "metadata": {},
   "outputs": [
    {
     "data": {
      "text/html": [
       "<div>\n",
       "<style scoped>\n",
       "    .dataframe tbody tr th:only-of-type {\n",
       "        vertical-align: middle;\n",
       "    }\n",
       "\n",
       "    .dataframe tbody tr th {\n",
       "        vertical-align: top;\n",
       "    }\n",
       "\n",
       "    .dataframe thead th {\n",
       "        text-align: right;\n",
       "    }\n",
       "</style>\n",
       "<table border=\"1\" class=\"dataframe\">\n",
       "  <thead>\n",
       "    <tr style=\"text-align: right;\">\n",
       "      <th></th>\n",
       "      <th>name</th>\n",
       "      <th>result</th>\n",
       "    </tr>\n",
       "  </thead>\n",
       "  <tbody>\n",
       "    <tr>\n",
       "      <th>0</th>\n",
       "      <td>1.вода аква минерале газ 0.</td>\n",
       "      <td>НЕ Сигареты ROTHMANS</td>\n",
       "    </tr>\n",
       "    <tr>\n",
       "      <th>1</th>\n",
       "      <td>сигареты\"keht\"</td>\n",
       "      <td>НЕ Сигареты ROTHMANS</td>\n",
       "    </tr>\n",
       "    <tr>\n",
       "      <th>2</th>\n",
       "      <td>сигареты стиль rose ssl jade (жадэ розовый)</td>\n",
       "      <td>НЕ Сигареты ROTHMANS</td>\n",
       "    </tr>\n",
       "    <tr>\n",
       "      <th>3</th>\n",
       "      <td>мин вода нарзан 0.5л пэт</td>\n",
       "      <td>НЕ Сигареты ROTHMANS</td>\n",
       "    </tr>\n",
       "    <tr>\n",
       "      <th>4</th>\n",
       "      <td>пирожок печен с мясом</td>\n",
       "      <td>НЕ Сигареты ROTHMANS</td>\n",
       "    </tr>\n",
       "  </tbody>\n",
       "</table>\n",
       "</div>"
      ],
      "text/plain": [
       "                                          name                result\n",
       "0                  1.вода аква минерале газ 0.  НЕ Сигареты ROTHMANS\n",
       "1                               сигареты\"keht\"  НЕ Сигареты ROTHMANS\n",
       "2  сигареты стиль rose ssl jade (жадэ розовый)  НЕ Сигареты ROTHMANS\n",
       "3                     мин вода нарзан 0.5л пэт  НЕ Сигареты ROTHMANS\n",
       "4                        пирожок печен с мясом  НЕ Сигареты ROTHMANS"
      ]
     },
     "execution_count": 3,
     "metadata": {},
     "output_type": "execute_result"
    }
   ],
   "source": [
    "df.head()"
   ]
  },
  {
   "cell_type": "code",
   "execution_count": 4,
   "metadata": {},
   "outputs": [],
   "source": [
    "# Для краткости дадим классам более короткие наименования\n",
    "dict_classes = {'НЕ Сигареты ROTHMANS': 'c1',\n",
    "               'Сигареты ROTHMANS DEMI CLICK (кнопка / капсула / зеленый / лайм / ментол)':'c2',\n",
    "               'Сигареты ROTHMANS DEMI CLICK (кнопка / капсула) Plus Blue (amber, мандарин, оранж, апельсин)':'c3',\n",
    "               'Сигареты ROTHMANS DEMI':'c4',\n",
    "               'Сигареты ROTHMANS DEMI SILVER (серый)':'c5',\n",
    "               'Сигареты ROYALS BY ROTHMANS':'c6',\n",
    "               'Сигареты ROTHMANS DEMI CLICK (кнопка / капсула) Aero Blue (фиолетовый / сиреневый / ягоды)':'c7',\n",
    "               'Сигареты ROTHMANS (неизвестно или нет в списке)':'c8'}\n",
    "\n",
    "df['result'] = df['result'].map(dict_classes)"
   ]
  },
  {
   "cell_type": "code",
   "execution_count": 5,
   "metadata": {},
   "outputs": [
    {
     "data": {
      "text/plain": [
       "c1    9200\n",
       "c2     222\n",
       "c3     185\n",
       "c4     172\n",
       "c5      76\n",
       "c6      75\n",
       "c7      59\n",
       "c8       9\n",
       "Name: result, dtype: int64"
      ]
     },
     "execution_count": 5,
     "metadata": {},
     "output_type": "execute_result"
    }
   ],
   "source": [
    "# Количество примеров для каждой категории\n",
    "df['result'].value_counts()"
   ]
  },
  {
   "cell_type": "markdown",
   "metadata": {},
   "source": [
    "##### Поскольку перед нами стоит задача определения категории товара по тексту из чека, попробуем воспользоватся некоторыми алгоритмами nlp. Будем использовать меру TF-IDF, предварительно переведя текст в векторный формат"
   ]
  },
  {
   "cell_type": "code",
   "execution_count": 6,
   "metadata": {},
   "outputs": [],
   "source": [
    "# Для начала необходимо очистить текст от ненужных символов в наименовании товарной позиции\n",
    "\n",
    "def clean_text(text):\n",
    "\n",
    "    REPLACE_BY_SPACE= re.compile('[/(){}\"\"\\[\\]\\|@;]')\n",
    "    BAD_SYMBOLS= re.compile('[#+_]')\n",
    "    \n",
    "    text = text.lower() \n",
    "    text = REPLACE_BY_SPACE.sub(' ', text)\n",
    "    text = BAD_SYMBOLS.sub('', text) \n",
    "    return text"
   ]
  },
  {
   "cell_type": "code",
   "execution_count": 7,
   "metadata": {},
   "outputs": [],
   "source": [
    "# Применим функцию к обучающей выборке\n",
    "df['name'] = df['name'].apply(clean_text)"
   ]
  },
  {
   "cell_type": "code",
   "execution_count": 8,
   "metadata": {},
   "outputs": [],
   "source": [
    "# разобьем выборку на train и test\n",
    "train = df.sample(frac = 0.7, random_state = 200)\n",
    "test = df.drop(train.index)"
   ]
  },
  {
   "cell_type": "code",
   "execution_count": 9,
   "metadata": {},
   "outputs": [
    {
     "name": "stdout",
     "output_type": "stream",
     "text": [
      "c1    6454\n",
      "c2     145\n",
      "c3     142\n",
      "c4     124\n",
      "c5      46\n",
      "c6      46\n",
      "c7      37\n",
      "c8       5\n",
      "Name: result, dtype: int64\n",
      "c1    2746\n",
      "c2      77\n",
      "c4      48\n",
      "c3      43\n",
      "c5      30\n",
      "c6      29\n",
      "c7      22\n",
      "c8       4\n",
      "Name: result, dtype: int64\n"
     ]
    }
   ],
   "source": [
    "# Разбивка на train и test с выбранным sub_sample нам подходит - как в train, так и в test есть примеры обоих классов\n",
    "print(train['result'].value_counts())\n",
    "print(test['result'].value_counts())"
   ]
  },
  {
   "cell_type": "code",
   "execution_count": 10,
   "metadata": {},
   "outputs": [],
   "source": [
    "# Выделим target и определим список классов\n",
    "y_train = train['result']\n",
    "y_test = test['result']\n",
    "\n",
    "X_train = train['name']\n",
    "X_test = test['name']\n",
    "\n",
    "classes = list(df['result'].value_counts().index)"
   ]
  },
  {
   "cell_type": "markdown",
   "metadata": {},
   "source": [
    "##### Попробуем обучить несколько моделей на обучающей выборке. Качество будем определять по выборке, отложенной ранее"
   ]
  },
  {
   "cell_type": "code",
   "execution_count": 11,
   "metadata": {},
   "outputs": [
    {
     "name": "stdout",
     "output_type": "stream",
     "text": [
      "accuracy 0.9816605535178393\n",
      "              precision    recall  f1-score   support\n",
      "\n",
      "          c1       0.99      1.00      1.00      2746\n",
      "          c2       0.83      0.87      0.85        77\n",
      "          c3       0.97      0.79      0.87        43\n",
      "          c4       0.73      0.92      0.81        48\n",
      "          c5       1.00      0.73      0.85        30\n",
      "          c6       0.91      0.72      0.81        29\n",
      "          c7       1.00      0.50      0.67        22\n",
      "          c8       0.00      0.00      0.00         4\n",
      "\n",
      "    accuracy                           0.98      2999\n",
      "   macro avg       0.80      0.69      0.73      2999\n",
      "weighted avg       0.98      0.98      0.98      2999\n",
      "\n"
     ]
    },
    {
     "name": "stderr",
     "output_type": "stream",
     "text": [
      "C:\\Users\\irina\\Anaconda3\\lib\\site-packages\\sklearn\\metrics\\classification.py:1437: UndefinedMetricWarning: Precision and F-score are ill-defined and being set to 0.0 in labels with no predicted samples.\n",
      "  'precision', 'predicted', average, warn_for)\n"
     ]
    }
   ],
   "source": [
    "from sklearn.pipeline import Pipeline\n",
    "import collections\n",
    "from sklearn.feature_extraction.text import TfidfTransformer,CountVectorizer, TfidfVectorizer\n",
    "from sklearn.metrics import accuracy_score, confusion_matrix, classification_report\n",
    "from sklearn.linear_model import SGDClassifier #SVM (Support Vector Machine)\n",
    "\n",
    "sgd = Pipeline([('vect', CountVectorizer()),\n",
    "                ('tfidf', TfidfTransformer()),\n",
    "                ('clf', SGDClassifier(loss='hinge', penalty='l2',alpha=0.001, random_state=42, max_iter=5, tol=None)),\n",
    "               ])\n",
    "sgd.fit(X_train, y_train)\n",
    "\n",
    "y_pred = sgd.predict(X_test)\n",
    "\n",
    "print('accuracy %s' % accuracy_score(y_pred, y_test))\n",
    "print(classification_report(y_test, y_pred,target_names=classes))"
   ]
  },
  {
   "cell_type": "code",
   "execution_count": 12,
   "metadata": {},
   "outputs": [
    {
     "name": "stderr",
     "output_type": "stream",
     "text": [
      "C:\\Users\\irina\\Anaconda3\\lib\\site-packages\\sklearn\\linear_model\\logistic.py:432: FutureWarning: Default solver will be changed to 'lbfgs' in 0.22. Specify a solver to silence this warning.\n",
      "  FutureWarning)\n",
      "C:\\Users\\irina\\Anaconda3\\lib\\site-packages\\sklearn\\linear_model\\logistic.py:469: FutureWarning: Default multi_class will be changed to 'auto' in 0.22. Specify the multi_class option to silence this warning.\n",
      "  \"this warning.\", FutureWarning)\n"
     ]
    },
    {
     "name": "stdout",
     "output_type": "stream",
     "text": [
      "accuracy 0.9859953317772591\n",
      "              precision    recall  f1-score   support\n",
      "\n",
      "          c1       1.00      1.00      1.00      2746\n",
      "          c2       0.90      0.95      0.92        77\n",
      "          c3       0.95      0.88      0.92        43\n",
      "          c4       0.67      0.92      0.77        48\n",
      "          c5       0.97      0.93      0.95        30\n",
      "          c6       0.90      0.62      0.73        29\n",
      "          c7       0.94      0.73      0.82        22\n",
      "          c8       0.00      0.00      0.00         4\n",
      "\n",
      "    accuracy                           0.99      2999\n",
      "   macro avg       0.79      0.75      0.76      2999\n",
      "weighted avg       0.99      0.99      0.99      2999\n",
      "\n"
     ]
    }
   ],
   "source": [
    "from sklearn.linear_model import LogisticRegression\n",
    "\n",
    "logreg = Pipeline([('vect', CountVectorizer()),\n",
    "                ('tfidf', TfidfTransformer()),\n",
    "                ('clf', LogisticRegression(n_jobs=1, C=1e5)),\n",
    "               ])\n",
    "logreg.fit(X_train, y_train)\n",
    "\n",
    "\n",
    "y_pred = logreg.predict(X_test)\n",
    "\n",
    "print('accuracy %s' % accuracy_score(y_pred, y_test))\n",
    "print(classification_report(y_test, y_pred,target_names=classes))"
   ]
  },
  {
   "cell_type": "code",
   "execution_count": 13,
   "metadata": {},
   "outputs": [
    {
     "name": "stdout",
     "output_type": "stream",
     "text": [
      "accuracy 0.9816605535178393\n",
      "              precision    recall  f1-score   support\n",
      "\n",
      "          c1       1.00      1.00      1.00      2746\n",
      "          c2       0.80      0.84      0.82        77\n",
      "          c3       0.92      0.77      0.84        43\n",
      "          c4       0.63      0.88      0.73        48\n",
      "          c5       1.00      0.83      0.91        30\n",
      "          c6       0.96      0.76      0.85        29\n",
      "          c7       0.79      0.50      0.61        22\n",
      "          c8       0.50      0.25      0.33         4\n",
      "\n",
      "    accuracy                           0.98      2999\n",
      "   macro avg       0.82      0.73      0.76      2999\n",
      "weighted avg       0.98      0.98      0.98      2999\n",
      "\n"
     ]
    }
   ],
   "source": [
    "import xgboost as XGB\n",
    "\n",
    "Boost = Pipeline([('vect', CountVectorizer()),\n",
    "                ('tfidf', TfidfTransformer()),\n",
    "                ('clf', XGB.XGBClassifier(n_jobs=-1, reg_alpha = 0.1, reg_lambda = 0.1,\n",
    "                          min_samples_leaf = 2, min_samples_split = 5, learning_rate = 0.01, n_estimators = 700,\n",
    "                          subsample = 0.9)),\n",
    "               ])\n",
    "Boost.fit(X_train, y_train)\n",
    "\n",
    "\n",
    "y_pred = Boost.predict(X_test)\n",
    "\n",
    "print('accuracy %s' % accuracy_score(y_pred, y_test))\n",
    "print(classification_report(y_test, y_pred,target_names=classes))"
   ]
  },
  {
   "cell_type": "code",
   "execution_count": 14,
   "metadata": {},
   "outputs": [
    {
     "data": {
      "text/plain": [
       "array([[[ 247,    6],\n",
       "        [   1, 2745]],\n",
       "\n",
       "       [[2906,   16],\n",
       "        [  12,   65]],\n",
       "\n",
       "       [[2953,    3],\n",
       "        [  10,   33]],\n",
       "\n",
       "       [[2926,   25],\n",
       "        [   6,   42]],\n",
       "\n",
       "       [[2969,    0],\n",
       "        [   5,   25]],\n",
       "\n",
       "       [[2969,    1],\n",
       "        [   7,   22]],\n",
       "\n",
       "       [[2974,    3],\n",
       "        [  11,   11]],\n",
       "\n",
       "       [[2994,    1],\n",
       "        [   3,    1]]], dtype=int64)"
      ]
     },
     "execution_count": 14,
     "metadata": {},
     "output_type": "execute_result"
    }
   ],
   "source": [
    "from sklearn.metrics import multilabel_confusion_matrix\n",
    "multilabel_confusion_matrix(y_test, y_pred, labels = classes)"
   ]
  },
  {
   "cell_type": "markdown",
   "metadata": {},
   "source": [
    "##### Из построенной матрицы ошибок можно увидеть, что модель часто совершает ложные срабатывания в С2 и С4, а также довольно часто не распознает С7 и С3 (в чуть меньшей степени)"
   ]
  },
  {
   "cell_type": "code",
   "execution_count": 15,
   "metadata": {},
   "outputs": [
    {
     "data": {
      "text/plain": [
       "array([[2745,    0,    0,    1,    0,    0,    0,    0],\n",
       "       [   2,   65,    1,    9,    0,    0,    0,    0],\n",
       "       [   2,    4,   33,    3,    0,    0,    1,    0],\n",
       "       [   2,    3,    0,   42,    0,    0,    0,    1],\n",
       "       [   0,    0,    1,    4,   25,    0,    0,    0],\n",
       "       [   0,    2,    0,    3,    0,   22,    2,    0],\n",
       "       [   0,    6,    1,    4,    0,    0,   11,    0],\n",
       "       [   0,    1,    0,    1,    0,    1,    0,    1]], dtype=int64)"
      ]
     },
     "execution_count": 15,
     "metadata": {},
     "output_type": "execute_result"
    }
   ],
   "source": [
    "confusion_matrix(y_test, y_pred, labels = classes)"
   ]
  },
  {
   "cell_type": "markdown",
   "metadata": {},
   "source": [
    "##### Из построенной расширенной матрицы ошибок для множественной классификации можно увидеть, что модель часто \"путает\" С2, C5 и С7 c C4"
   ]
  },
  {
   "cell_type": "markdown",
   "metadata": {},
   "source": [
    "##### В качестве дополнительной метрики можно использовать ROC_AUC:"
   ]
  },
  {
   "cell_type": "code",
   "execution_count": 16,
   "metadata": {},
   "outputs": [
    {
     "name": "stdout",
     "output_type": "stream",
     "text": [
      "c1 AUC_ROC: 0.988\n",
      "c2 AUC_ROC: 0.919\n",
      "c3 AUC_ROC: 0.883\n",
      "c4 AUC_ROC: 0.933\n",
      "c5 AUC_ROC: 0.917\n",
      "c6 AUC_ROC: 0.879\n",
      "c7 AUC_ROC: 0.749\n",
      "c8 AUC_ROC: 0.625\n",
      "MACRO_AUC_ROC: 0.862\n"
     ]
    }
   ],
   "source": [
    "from sklearn.metrics import roc_auc_score\n",
    "Roc = pd.DataFrame(data = {'test':y_test, 'pred':y_pred})\n",
    "macro_avg_auc = []\n",
    "for i in classes:\n",
    "    Roc = pd.DataFrame(data = {'test':y_test, 'pred':y_pred})\n",
    "    Roc.loc[Roc['test'] != i, 'test'] = 0\n",
    "    Roc.loc[Roc['test'] == i, 'test'] = 1\n",
    "    \n",
    "    Roc.loc[Roc['pred'] != i, 'pred'] = 0\n",
    "    Roc.loc[Roc['pred'] == i, 'pred'] = 1\n",
    "    auc_i = round(roc_auc_score(Roc['test'], Roc['pred']), 3)\n",
    "    print(i, 'AUC_ROC:', auc_i)\n",
    "    macro_avg_auc.append(auc_i)\n",
    "print('MACRO_AUC_ROC:', round(np.array(macro_avg_auc).mean(), 3))"
   ]
  },
  {
   "cell_type": "markdown",
   "metadata": {},
   "source": [
    "##### Попробуем найти наиболее важные слова, которые характеризуют каждый класс:"
   ]
  },
  {
   "cell_type": "code",
   "execution_count": 17,
   "metadata": {},
   "outputs": [],
   "source": [
    "vectorizer = CountVectorizer()\n",
    "X_train_vect = vectorizer.fit_transform(X_train)\n",
    "\n",
    "dict_fit = vectorizer.get_feature_names() # bag_of_words"
   ]
  },
  {
   "cell_type": "code",
   "execution_count": 18,
   "metadata": {},
   "outputs": [],
   "source": [
    "tfidf = TfidfTransformer()\n",
    "X_train_vect_tfidf = tfidf.fit_transform(X_train_vect)"
   ]
  },
  {
   "cell_type": "code",
   "execution_count": 19,
   "metadata": {},
   "outputs": [],
   "source": [
    "# Функция, которая принимает на вход метку класса и возвращает 10 слов с наивысшей мерой tf-idf\n",
    "def imp_words(C):\n",
    "    y_train_res_ind = y_train.reset_index()\n",
    "    X_class_index = y_train_res_ind[y_train_res_ind['result'] == C].index\n",
    "    \n",
    "    list_words_j = []\n",
    "    for i in X_class_index:\n",
    "        for j in X_train_vect_tfidf.toarray()[i].argsort()[-10:][::-1]:\n",
    "            list_words_j.append(dict_fit[j])\n",
    "    \n",
    "    c = collections.Counter()\n",
    "    for w in list_words_j:\n",
    "        c[w] += 1\n",
    "    return c"
   ]
  },
  {
   "cell_type": "code",
   "execution_count": 20,
   "metadata": {},
   "outputs": [],
   "source": [
    "# most_imp_w_1 = imp_words('c1')  -  для данного класса довольно долгие вычисления. Результаты приводятся без них\n",
    "most_imp_w_2 = imp_words('c2')\n",
    "most_imp_w_3 = imp_words('c3')\n",
    "most_imp_w_4 = imp_words('c4')\n",
    "most_imp_w_5 = imp_words('c5')\n",
    "most_imp_w_6 = imp_words('c6')\n",
    "most_imp_w_7 = imp_words('c7')\n",
    "most_imp_w_8 = imp_words('c8')"
   ]
  },
  {
   "cell_type": "code",
   "execution_count": 21,
   "metadata": {},
   "outputs": [
    {
     "name": "stdout",
     "output_type": "stream",
     "text": [
      "c2\n",
      "[('mab', 111), ('m520', 102), ('mac', 95), ('деми', 87), ('ротманс', 86), ('клик', 76), ('m41', 70), ('сигареты', 68), ('rothmans', 55), ('demi', 55)]\n",
      "c3\n",
      "[('m520', 107), ('m41', 92), ('mab', 81), ('деми', 81), ('ротманс', 79), ('сигареты', 73), ('амбер', 70), ('m3', 65), ('demi', 60), ('rothmans', 56)]\n",
      "c4\n",
      "[('m520', 114), ('mab', 111), ('m41', 104), ('mac', 78), ('m3', 74), ('деми', 62), ('ротманс', 60), ('rothmans', 59), ('demi', 59), ('сигареты', 54)]\n",
      "c5\n",
      "[('mab', 38), ('m520', 36), ('сигареты', 31), ('mac', 29), ('rothmans', 26), ('demi', 26), ('silver', 20), ('сильвер', 19), ('ротманс', 19), ('деми', 19)]\n",
      "c6\n",
      "[('m41', 37), ('m3', 34), ('ротманс', 33), ('m520', 33), ('деми', 32), ('m2', 24), ('mab', 23), ('сигареты', 19), ('роялс', 18), ('ёш', 17)]\n",
      "c7\n",
      "[('m520', 25), ('деми', 21), ('m41', 21), ('mab', 21), ('ротманс', 19), ('m3', 17), ('аэро', 16), ('rothmans', 14), ('demi', 14), ('сигареты', 13)]\n",
      "c8\n",
      "[('ротманс', 4), ('деми', 4), ('mab', 3), ('m520', 3), ('блю', 3), ('m41', 3), ('m3', 3), ('m2', 3), ('blue', 2), ('ёш', 2)]\n"
     ]
    }
   ],
   "source": [
    "for i,j in zip([most_imp_w_2, most_imp_w_3, most_imp_w_4,\n",
    "          most_imp_w_5, most_imp_w_6, most_imp_w_7, most_imp_w_8], ['c2','c3','c4','c5','c6','c7','c8']):\n",
    "    print(j)\n",
    "    print(i.most_common(10))"
   ]
  },
  {
   "cell_type": "markdown",
   "metadata": {},
   "source": [
    "##### Видно, что классы c2 и с3 довольно сильно похожи межу собой по наиболее \"важным\" словам. Класс c7 не очень похож на эти 2. Классы c4 и с5 также имеют похожий состав \"важных\" слов"
   ]
  },
  {
   "cell_type": "code",
   "execution_count": null,
   "metadata": {},
   "outputs": [],
   "source": [
    "# Разметим клиентов из выборки classify"
   ]
  },
  {
   "cell_type": "code",
   "execution_count": 24,
   "metadata": {},
   "outputs": [],
   "source": [
    "classify['name'] = classify['name'].map(clean_text)"
   ]
  },
  {
   "cell_type": "code",
   "execution_count": 26,
   "metadata": {},
   "outputs": [],
   "source": [
    "Boost_clf = Pipeline([('vect', CountVectorizer()),\n",
    "                ('tfidf', TfidfTransformer()),\n",
    "                ('clf', XGB.XGBClassifier(n_jobs=-1, reg_alpha = 0.1, reg_lambda = 0.1,\n",
    "                          min_samples_leaf = 2, min_samples_split = 5, learning_rate = 0.01, n_estimators = 700,\n",
    "                          subsample = 0.9)),\n",
    "               ])\n",
    "Boost_clf.fit(df['name'], df['result'])\n",
    "\n",
    "y_pred_classify = Boost.predict(classify['name'])"
   ]
  },
  {
   "cell_type": "code",
   "execution_count": 29,
   "metadata": {},
   "outputs": [],
   "source": [
    "y_clf = pd.DataFrame(data = {'result':y_pred_classify})"
   ]
  },
  {
   "cell_type": "code",
   "execution_count": 30,
   "metadata": {},
   "outputs": [
    {
     "data": {
      "text/plain": [
       "c1    19796\n",
       "c4       65\n",
       "c2       64\n",
       "c3       41\n",
       "c5       18\n",
       "c7        9\n",
       "c6        5\n",
       "c8        2\n",
       "Name: result, dtype: int64"
      ]
     },
     "execution_count": 30,
     "metadata": {},
     "output_type": "execute_result"
    }
   ],
   "source": [
    "y_clf['result'].value_counts() # В целом, распределение классов довольно сильно похоже на обучающую выборку. \n",
    "# Однако доля класса c1 еще выше"
   ]
  },
  {
   "cell_type": "code",
   "execution_count": 35,
   "metadata": {},
   "outputs": [],
   "source": [
    "clf_result = pd.concat([classify['name'], y_clf['result']], axis = 1)"
   ]
  },
  {
   "cell_type": "code",
   "execution_count": 36,
   "metadata": {},
   "outputs": [
    {
     "data": {
      "text/html": [
       "<div>\n",
       "<style scoped>\n",
       "    .dataframe tbody tr th:only-of-type {\n",
       "        vertical-align: middle;\n",
       "    }\n",
       "\n",
       "    .dataframe tbody tr th {\n",
       "        vertical-align: top;\n",
       "    }\n",
       "\n",
       "    .dataframe thead th {\n",
       "        text-align: right;\n",
       "    }\n",
       "</style>\n",
       "<table border=\"1\" class=\"dataframe\">\n",
       "  <thead>\n",
       "    <tr style=\"text-align: right;\">\n",
       "      <th></th>\n",
       "      <th>name</th>\n",
       "      <th>result</th>\n",
       "    </tr>\n",
       "  </thead>\n",
       "  <tbody>\n",
       "    <tr>\n",
       "      <th>0</th>\n",
       "      <td>2000000964829 трихопол таб 250 мг n2</td>\n",
       "      <td>c1</td>\n",
       "    </tr>\n",
       "    <tr>\n",
       "      <th>1</th>\n",
       "      <td>сигареты парламент карат синий</td>\n",
       "      <td>c1</td>\n",
       "    </tr>\n",
       "    <tr>\n",
       "      <th>2</th>\n",
       "      <td>перец горький 1 шт</td>\n",
       "      <td>c1</td>\n",
       "    </tr>\n",
       "    <tr>\n",
       "      <th>3</th>\n",
       "      <td>сыр коса  сочинский  120 гр  40</td>\n",
       "      <td>c1</td>\n",
       "    </tr>\n",
       "    <tr>\n",
       "      <th>4</th>\n",
       "      <td>мертенил таб 5мг є30</td>\n",
       "      <td>c1</td>\n",
       "    </tr>\n",
       "    <tr>\n",
       "      <th>5</th>\n",
       "      <td>нектар  донди  0,2л ¤блоко-виноград</td>\n",
       "      <td>c1</td>\n",
       "    </tr>\n",
       "    <tr>\n",
       "      <th>6</th>\n",
       "      <td>лейз грибы и сметана  80гр</td>\n",
       "      <td>c1</td>\n",
       "    </tr>\n",
       "    <tr>\n",
       "      <th>7</th>\n",
       "      <td>конь¤к российский трехлетний крым таврический ...</td>\n",
       "      <td>c1</td>\n",
       "    </tr>\n",
       "    <tr>\n",
       "      <th>8</th>\n",
       "      <td>6094 сигареты ¤ва белое золото кл</td>\n",
       "      <td>c1</td>\n",
       "    </tr>\n",
       "    <tr>\n",
       "      <th>9</th>\n",
       "      <td>минеральна¤ вода  боржоми  0.5</td>\n",
       "      <td>c1</td>\n",
       "    </tr>\n",
       "    <tr>\n",
       "      <th>10</th>\n",
       "      <td>kолбаса молочна¤ вар калибр 05кг гт тавр</td>\n",
       "      <td>c1</td>\n",
       "    </tr>\n",
       "    <tr>\n",
       "      <th>11</th>\n",
       "      <td>527 malizia 40 д-6 omsa чулки женские  3 белый...</td>\n",
       "      <td>c1</td>\n",
       "    </tr>\n",
       "    <tr>\n",
       "      <th>12</th>\n",
       "      <td>пюре тєма  100г тел¤тина</td>\n",
       "      <td>c1</td>\n",
       "    </tr>\n",
       "    <tr>\n",
       "      <th>13</th>\n",
       "      <td>св¤той грааль лимонад тархун 0.5л</td>\n",
       "      <td>c1</td>\n",
       "    </tr>\n",
       "    <tr>\n",
       "      <th>14</th>\n",
       "      <td>ночной охотник конс д кошек 400г  тел¤тина инд...</td>\n",
       "      <td>c1</td>\n",
       "    </tr>\n",
       "    <tr>\n",
       "      <th>15</th>\n",
       "      <td>вода бонаква 0,5л</td>\n",
       "      <td>c1</td>\n",
       "    </tr>\n",
       "    <tr>\n",
       "      <th>16</th>\n",
       "      <td>сыр плав. viola  200 гр. сливочный</td>\n",
       "      <td>c1</td>\n",
       "    </tr>\n",
       "    <tr>\n",
       "      <th>17</th>\n",
       "      <td>страхование: заказ 2lfnnt</td>\n",
       "      <td>c1</td>\n",
       "    </tr>\n",
       "    <tr>\n",
       "      <th>18</th>\n",
       "      <td>масло kресть¤нское 72.5% 180гр. в штуkах новат...</td>\n",
       "      <td>c1</td>\n",
       "    </tr>\n",
       "    <tr>\n",
       "      <th>19</th>\n",
       "      <td>коровка из кореновки пломбир крем-брюле стакан...</td>\n",
       "      <td>c1</td>\n",
       "    </tr>\n",
       "    <tr>\n",
       "      <th>20</th>\n",
       "      <td>5ok45qbz9 l сорочка рубашка</td>\n",
       "      <td>c1</td>\n",
       "    </tr>\n",
       "    <tr>\n",
       "      <th>21</th>\n",
       "      <td>платье  арт. juno aw16-juz-782 шт</td>\n",
       "      <td>c1</td>\n",
       "    </tr>\n",
       "    <tr>\n",
       "      <th>22</th>\n",
       "      <td>очки 17fgls30  черный</td>\n",
       "      <td>c1</td>\n",
       "    </tr>\n",
       "    <tr>\n",
       "      <th>23</th>\n",
       "      <td>вода минеральна¤ св¤то-михайловска¤ газ пэт-</td>\n",
       "      <td>c1</td>\n",
       "    </tr>\n",
       "    <tr>\n",
       "      <th>24</th>\n",
       "      <td>сигареты  золота¤ ¤ва  оригинальна¤ 90р</td>\n",
       "      <td>c1</td>\n",
       "    </tr>\n",
       "    <tr>\n",
       "      <th>25</th>\n",
       "      <td>кофе московский ж б 200гр</td>\n",
       "      <td>c1</td>\n",
       "    </tr>\n",
       "    <tr>\n",
       "      <th>26</th>\n",
       "      <td>мин.вода жемчужина 0,5л н газ. п.ува</td>\n",
       "      <td>c1</td>\n",
       "    </tr>\n",
       "    <tr>\n",
       "      <th>27</th>\n",
       "      <td>зефир обожайка  ванильный кг</td>\n",
       "      <td>c1</td>\n",
       "    </tr>\n",
       "    <tr>\n",
       "      <th>28</th>\n",
       "      <td>4770190036085 крабовые палочки вичи 100гр</td>\n",
       "      <td>c1</td>\n",
       "    </tr>\n",
       "    <tr>\n",
       "      <th>29</th>\n",
       "      <td>море импульс компакт мрц 80</td>\n",
       "      <td>c1</td>\n",
       "    </tr>\n",
       "    <tr>\n",
       "      <th>...</th>\n",
       "      <td>...</td>\n",
       "      <td>...</td>\n",
       "    </tr>\n",
       "    <tr>\n",
       "      <th>19970</th>\n",
       "      <td>987306 02-02z туфли летние девич. и.кожа лето 38</td>\n",
       "      <td>c1</td>\n",
       "    </tr>\n",
       "    <tr>\n",
       "      <th>19971</th>\n",
       "      <td>пиво kорвет приморье светлое 0,5л ст б</td>\n",
       "      <td>c1</td>\n",
       "    </tr>\n",
       "    <tr>\n",
       "      <th>19972</th>\n",
       "      <td>ld  autograph  compact blue  90</td>\n",
       "      <td>c1</td>\n",
       "    </tr>\n",
       "    <tr>\n",
       "      <th>19973</th>\n",
       "      <td>kент 4 сильвер мрц 145р.</td>\n",
       "      <td>c1</td>\n",
       "    </tr>\n",
       "    <tr>\n",
       "      <th>19974</th>\n",
       "      <td>4.эмоксипин капли глазн. 1% фл 5мл.</td>\n",
       "      <td>c1</td>\n",
       "    </tr>\n",
       "    <tr>\n",
       "      <th>19975</th>\n",
       "      <td>сигареты  вест компакт ред  10.000х10</td>\n",
       "      <td>c1</td>\n",
       "    </tr>\n",
       "    <tr>\n",
       "      <th>19976</th>\n",
       "      <td>334481412, dshe, куртка</td>\n",
       "      <td>c1</td>\n",
       "    </tr>\n",
       "    <tr>\n",
       "      <th>19977</th>\n",
       "      <td>скоба строит. д8*270</td>\n",
       "      <td>c1</td>\n",
       "    </tr>\n",
       "    <tr>\n",
       "      <th>19978</th>\n",
       "      <td>сигареты bond blue мрц 100</td>\n",
       "      <td>c1</td>\n",
       "    </tr>\n",
       "    <tr>\n",
       "      <th>19979</th>\n",
       "      <td>ротманс ро¤л деми блю т у</td>\n",
       "      <td>c4</td>\n",
       "    </tr>\n",
       "    <tr>\n",
       "      <th>19980</th>\n",
       "      <td>средство сорти дл¤ посуды 1 л.</td>\n",
       "      <td>c1</td>\n",
       "    </tr>\n",
       "    <tr>\n",
       "      <th>19981</th>\n",
       "      <td>билет є 9802638102</td>\n",
       "      <td>c1</td>\n",
       "    </tr>\n",
       "    <tr>\n",
       "      <th>19982</th>\n",
       "      <td>напиток газированный фреш бар мохито 1л</td>\n",
       "      <td>c1</td>\n",
       "    </tr>\n",
       "    <tr>\n",
       "      <th>19983</th>\n",
       "      <td>1. стрептоцид порошок 2,0</td>\n",
       "      <td>c1</td>\n",
       "    </tr>\n",
       "    <tr>\n",
       "      <th>19984</th>\n",
       "      <td>289295459, katomi, джинсы</td>\n",
       "      <td>c1</td>\n",
       "    </tr>\n",
       "    <tr>\n",
       "      <th>19985</th>\n",
       "      <td>стол б.ц. 2700р</td>\n",
       "      <td>c1</td>\n",
       "    </tr>\n",
       "    <tr>\n",
       "      <th>19986</th>\n",
       "      <td>табак каль¤нный al mawardi forrest казань 50 г...</td>\n",
       "      <td>c1</td>\n",
       "    </tr>\n",
       "    <tr>\n",
       "      <th>19987</th>\n",
       "      <td>ананас сушеный микс вес. кг.</td>\n",
       "      <td>c1</td>\n",
       "    </tr>\n",
       "    <tr>\n",
       "      <th>19988</th>\n",
       "      <td>сигареты rothmans demi ро¤ль</td>\n",
       "      <td>c3</td>\n",
       "    </tr>\n",
       "    <tr>\n",
       "      <th>19989</th>\n",
       "      <td>трк 2 газ 62.20л</td>\n",
       "      <td>c1</td>\n",
       "    </tr>\n",
       "    <tr>\n",
       "      <th>19990</th>\n",
       "      <td>водка  платинум  40% 0,7л</td>\n",
       "      <td>c1</td>\n",
       "    </tr>\n",
       "    <tr>\n",
       "      <th>19991</th>\n",
       "      <td>карта 101934. пополнение баланса</td>\n",
       "      <td>c1</td>\n",
       "    </tr>\n",
       "    <tr>\n",
       "      <th>19992</th>\n",
       "      <td>¤годы kрыма эскимо 80г</td>\n",
       "      <td>c1</td>\n",
       "    </tr>\n",
       "    <tr>\n",
       "      <th>19993</th>\n",
       "      <td>напиток 1,5л тм  coca - cola  кока-кола зеро пэт</td>\n",
       "      <td>c1</td>\n",
       "    </tr>\n",
       "    <tr>\n",
       "      <th>19994</th>\n",
       "      <td>177671 блокнот 48л а7ф 65х100мм 3-х</td>\n",
       "      <td>c1</td>\n",
       "    </tr>\n",
       "    <tr>\n",
       "      <th>19995</th>\n",
       "      <td>масло сладкосливочное молочный мир 82,5% 200г</td>\n",
       "      <td>c1</td>\n",
       "    </tr>\n",
       "    <tr>\n",
       "      <th>19996</th>\n",
       "      <td>зубна¤ паста  новый жемчуг  100мл</td>\n",
       "      <td>c1</td>\n",
       "    </tr>\n",
       "    <tr>\n",
       "      <th>19997</th>\n",
       "      <td>0480-18 чай принцесса нури пакет. апельсин и л...</td>\n",
       "      <td>c1</td>\n",
       "    </tr>\n",
       "    <tr>\n",
       "      <th>19998</th>\n",
       "      <td>вино п сл. красное буссо 0,7л. 12,5%  инкерман...</td>\n",
       "      <td>c1</td>\n",
       "    </tr>\n",
       "    <tr>\n",
       "      <th>19999</th>\n",
       "      <td>оплата за заказ 55728277, 89068130361</td>\n",
       "      <td>c1</td>\n",
       "    </tr>\n",
       "  </tbody>\n",
       "</table>\n",
       "<p>20000 rows × 2 columns</p>\n",
       "</div>"
      ],
      "text/plain": [
       "                                                    name result\n",
       "0                   2000000964829 трихопол таб 250 мг n2     c1\n",
       "1                      сигареты парламент карат синий        c1\n",
       "2                                     перец горький 1 шт     c1\n",
       "3                       сыр коса  сочинский  120 гр  40      c1\n",
       "4                                   мертенил таб 5мг є30     c1\n",
       "5                    нектар  донди  0,2л ¤блоко-виноград     c1\n",
       "6                             лейз грибы и сметана  80гр     c1\n",
       "7      конь¤к российский трехлетний крым таврический ...     c1\n",
       "8                      6094 сигареты ¤ва белое золото кл     c1\n",
       "9                         минеральна¤ вода  боржоми  0.5     c1\n",
       "10              kолбаса молочна¤ вар калибр 05кг гт тавр     c1\n",
       "11     527 malizia 40 д-6 omsa чулки женские  3 белый...     c1\n",
       "12                              пюре тєма  100г тел¤тина     c1\n",
       "13                   св¤той грааль лимонад тархун 0.5л       c1\n",
       "14     ночной охотник конс д кошек 400г  тел¤тина инд...     c1\n",
       "15                                     вода бонаква 0,5л     c1\n",
       "16                    сыр плав. viola  200 гр. сливочный     c1\n",
       "17                             страхование: заказ 2lfnnt     c1\n",
       "18     масло kресть¤нское 72.5% 180гр. в штуkах новат...     c1\n",
       "19     коровка из кореновки пломбир крем-брюле стакан...     c1\n",
       "20                          5ok45qbz9 l сорочка рубашка      c1\n",
       "21                     платье  арт. juno aw16-juz-782 шт     c1\n",
       "22                                очки 17fgls30  черный      c1\n",
       "23          вода минеральна¤ св¤то-михайловска¤ газ пэт-     c1\n",
       "24               сигареты  золота¤ ¤ва  оригинальна¤ 90р     c1\n",
       "25                             кофе московский ж б 200гр     c1\n",
       "26                  мин.вода жемчужина 0,5л н газ. п.ува     c1\n",
       "27                          зефир обожайка  ванильный кг     c1\n",
       "28             4770190036085 крабовые палочки вичи 100гр     c1\n",
       "29                           море импульс компакт мрц 80     c1\n",
       "...                                                  ...    ...\n",
       "19970   987306 02-02z туфли летние девич. и.кожа лето 38     c1\n",
       "19971             пиво kорвет приморье светлое 0,5л ст б     c1\n",
       "19972                    ld  autograph  compact blue  90     c1\n",
       "19973                           kент 4 сильвер мрц 145р.     c1\n",
       "19974                4.эмоксипин капли глазн. 1% фл 5мл.     c1\n",
       "19975              сигареты  вест компакт ред  10.000х10     c1\n",
       "19976                            334481412, dshe, куртка     c1\n",
       "19977                               скоба строит. д8*270     c1\n",
       "19978                         сигареты bond blue мрц 100     c1\n",
       "19979                          ротманс ро¤л деми блю т у     c4\n",
       "19980                     средство сорти дл¤ посуды 1 л.     c1\n",
       "19981                                 билет є 9802638102     c1\n",
       "19982            напиток газированный фреш бар мохито 1л     c1\n",
       "19983                          1. стрептоцид порошок 2,0     c1\n",
       "19984                          289295459, katomi, джинсы     c1\n",
       "19985                                   стол б.ц. 2700р      c1\n",
       "19986  табак каль¤нный al mawardi forrest казань 50 г...     c1\n",
       "19987                       ананас сушеный микс вес. кг.     c1\n",
       "19988                       сигареты rothmans demi ро¤ль     c3\n",
       "19989                                   трк 2 газ 62.20л     c1\n",
       "19990                          водка  платинум  40% 0,7л     c1\n",
       "19991                   карта 101934. пополнение баланса     c1\n",
       "19992                             ¤годы kрыма эскимо 80г     c1\n",
       "19993   напиток 1,5л тм  coca - cola  кока-кола зеро пэт     c1\n",
       "19994                177671 блокнот 48л а7ф 65х100мм 3-х     c1\n",
       "19995      масло сладкосливочное молочный мир 82,5% 200г     c1\n",
       "19996                  зубна¤ паста  новый жемчуг  100мл     c1\n",
       "19997  0480-18 чай принцесса нури пакет. апельсин и л...     c1\n",
       "19998  вино п сл. красное буссо 0,7л. 12,5%  инкерман...     c1\n",
       "19999              оплата за заказ 55728277, 89068130361     c1\n",
       "\n",
       "[20000 rows x 2 columns]"
      ]
     },
     "execution_count": 36,
     "metadata": {},
     "output_type": "execute_result"
    }
   ],
   "source": [
    "clf_result"
   ]
  },
  {
   "cell_type": "code",
   "execution_count": 42,
   "metadata": {},
   "outputs": [],
   "source": [
    "inv_dict_classes = {v: k for k, v in dict_classes.items()}\n",
    "clf_result['result'] = clf_result['result'].map(inv_dict_classes)"
   ]
  },
  {
   "cell_type": "code",
   "execution_count": 44,
   "metadata": {},
   "outputs": [],
   "source": [
    "clf_result.to_csv('predictions.txt', sep = '\t')"
   ]
  },
  {
   "cell_type": "markdown",
   "metadata": {},
   "source": [
    "##### Для решения данной задачи использовались различные алгоритмы классификации (градиентный бустинг, логистическая регрессия, SVM) на основе рассчитанной меры TF-IDF. Помимо того, что мера TF-IDF довольно просто рассчитывается, она еще хороша тем, что позволяет определять слова характерные только для какого-то конкретного класса."
   ]
  },
  {
   "cell_type": "markdown",
   "metadata": {},
   "source": [
    "##### В качестве метрик классификации использовались : F-Мера и AUC_ROC. При расчете использовалось простое усреднение (macro) и веса классов не учитывались. В результате, каждый класс вносил равный вклад в итоговую метрику, что является более объективным в нашем случае.  Полученные значения - F-Мера = 0.76, AUC_ROC = 0.86 (XGBOOST)"
   ]
  },
  {
   "cell_type": "markdown",
   "metadata": {},
   "source": [
    "##### В качестве улучшения построенного алгоритма классификации можно сделать следующее:\n",
    "#####  -  Тщательнее подобрать гиперпараметры алгоритмов на кросс-валидации;\n",
    "#####  -  Более качественно очистить выборку от различных ненужных символов, добавить исключение по стоп-словам (для tf-idf);\n",
    "#####  -  Обогатить выборку данными (можно проверить значения метрик на меньших объемах выборки, постепенно увеличивая его);\n",
    "#####  -  В качестве дополнения к бизнес-процессу - \"спорные\" ситуации, например когда модель выдала по нескольким классам примерно равные вероятности отправлять на ручную проверку."
   ]
  },
  {
   "cell_type": "code",
   "execution_count": null,
   "metadata": {},
   "outputs": [],
   "source": []
  }
 ],
 "metadata": {
  "kernelspec": {
   "display_name": "Python 3",
   "language": "python",
   "name": "python3"
  },
  "language_info": {
   "codemirror_mode": {
    "name": "ipython",
    "version": 3
   },
   "file_extension": ".py",
   "mimetype": "text/x-python",
   "name": "python",
   "nbconvert_exporter": "python",
   "pygments_lexer": "ipython3",
   "version": "3.7.3"
  }
 },
 "nbformat": 4,
 "nbformat_minor": 2
}
