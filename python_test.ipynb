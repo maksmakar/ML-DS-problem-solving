{
 "cells": [
  {
   "cell_type": "code",
   "execution_count": 1,
   "metadata": {},
   "outputs": [],
   "source": [
    "import numpy as np\n",
    "import pandas as pd"
   ]
  },
  {
   "cell_type": "markdown",
   "metadata": {},
   "source": [
    "# Задача 1"
   ]
  },
  {
   "cell_type": "code",
   "execution_count": 2,
   "metadata": {},
   "outputs": [],
   "source": [
    "df = pd.read_csv('alfa_python_test.csv', sep = ',')"
   ]
  },
  {
   "cell_type": "code",
   "execution_count": 3,
   "metadata": {},
   "outputs": [
    {
     "name": "stdout",
     "output_type": "stream",
     "text": [
      "<class 'pandas.core.frame.DataFrame'>\n",
      "RangeIndex: 1000 entries, 0 to 999\n",
      "Data columns (total 3 columns):\n",
      "city    805 non-null object\n",
      "date    1000 non-null object\n",
      "id      1000 non-null int64\n",
      "dtypes: int64(1), object(2)\n",
      "memory usage: 23.5+ KB\n"
     ]
    }
   ],
   "source": [
    "df.info()"
   ]
  },
  {
   "cell_type": "code",
   "execution_count": 4,
   "metadata": {},
   "outputs": [],
   "source": [
    "# переведем дату в тип date\n",
    "df['date'] = pd.to_datetime(df['date'])"
   ]
  },
  {
   "cell_type": "code",
   "execution_count": 5,
   "metadata": {},
   "outputs": [],
   "source": [
    "# сгруппируем наш датасет \n",
    "date = df.groupby(['id']).agg('max')"
   ]
  },
  {
   "cell_type": "code",
   "execution_count": 6,
   "metadata": {},
   "outputs": [],
   "source": [
    "date['id'] = date.index"
   ]
  },
  {
   "cell_type": "code",
   "execution_count": 7,
   "metadata": {},
   "outputs": [],
   "source": [
    "# Создадим требуемую таблицу\n",
    "df_new = date.merge(df, left_on=['id','date'], right_on=['id','date'])"
   ]
  },
  {
   "cell_type": "code",
   "execution_count": 8,
   "metadata": {},
   "outputs": [],
   "source": [
    "# Уберем пробелы из перечислений городов\n",
    "df_new['city'] = df_new['city'].apply(lambda x: str(x).replace(' ', ''))"
   ]
  },
  {
   "cell_type": "markdown",
   "metadata": {},
   "source": [
    "### Напишем функцию, которая будет преобразовывать группы городов:\n",
    "##### Например, группы ABC и СBA должны быть преобразованы к одной записи"
   ]
  },
  {
   "cell_type": "code",
   "execution_count": 9,
   "metadata": {},
   "outputs": [],
   "source": [
    "def sets(df_new):\n",
    "    for i in df_new.index:\n",
    "        towns = df_new['city'][i]\n",
    "        towns_list = towns.split(',')\n",
    "        for j in df_new['city']:\n",
    "            towns_list_1 = j.split(',')\n",
    "            if list(set(towns_list_1) ^ set(towns_list)) == []:\n",
    "                df_new['city'].replace(','.join(towns_list_1), ','.join(towns_list), inplace = True)"
   ]
  },
  {
   "cell_type": "code",
   "execution_count": 10,
   "metadata": {},
   "outputs": [],
   "source": [
    "sets(df_new)"
   ]
  },
  {
   "cell_type": "markdown",
   "metadata": {},
   "source": [
    "#### Количество id в каждом множестве городов:"
   ]
  },
  {
   "cell_type": "code",
   "execution_count": 11,
   "metadata": {},
   "outputs": [
    {
     "data": {
      "text/plain": [
       "St-Petersburg,Moscow,Sochi,Kazan    70\n",
       "nan                                 52\n",
       "Kazan,Sochi,Moscow                  29\n",
       "St-Petersburg,Sochi,Moscow          18\n",
       "Kazan,Moscow,St-Petersburg          16\n",
       "St-Petersburg                       15\n",
       "Sochi                               15\n",
       "Kazan                               12\n",
       "St-Petersburg,Sochi,Kazan           11\n",
       "Kazan,Moscow                        10\n",
       "Sochi,St-Petersburg                  8\n",
       "Kazan,St-Petersburg                  8\n",
       "Moscow,Sochi                         8\n",
       "Kazan,Sochi                          7\n",
       "St-Petersburg,Moscow                 7\n",
       "Moscow                               5\n",
       "Name: city, dtype: int64"
      ]
     },
     "execution_count": 11,
     "metadata": {},
     "output_type": "execute_result"
    }
   ],
   "source": [
    "df_new['city'].value_counts()"
   ]
  },
  {
   "cell_type": "code",
   "execution_count": 12,
   "metadata": {},
   "outputs": [],
   "source": [
    "Spb = 0\n",
    "Msk= 0\n",
    "S = 0\n",
    "Kaz = 0\n",
    "\n",
    "for town in df_new['city']:\n",
    "    if town.count('St-Petersburg') == 1:\n",
    "        Spb += 1\n",
    "    if town.count('Moscow') == 1:\n",
    "        Msk += 1\n",
    "    if town.count('Sochi') == 1:\n",
    "        S += 1\n",
    "    if town.count('Kazan') == 1:\n",
    "        Kaz += 1"
   ]
  },
  {
   "cell_type": "code",
   "execution_count": 13,
   "metadata": {},
   "outputs": [],
   "source": [
    "d = {'Санкт-Петербург' : Spb, 'Москва' : Msk, 'Сочи' : S, 'Казань' : Kaz}"
   ]
  },
  {
   "cell_type": "markdown",
   "metadata": {},
   "source": [
    "#### Количество уникальных id в каждом городе:"
   ]
  },
  {
   "cell_type": "code",
   "execution_count": 14,
   "metadata": {},
   "outputs": [
    {
     "data": {
      "text/plain": [
       "{'Казань': 163, 'Москва': 163, 'Санкт-Петербург': 153, 'Сочи': 166}"
      ]
     },
     "execution_count": 14,
     "metadata": {},
     "output_type": "execute_result"
    }
   ],
   "source": [
    "d"
   ]
  },
  {
   "cell_type": "markdown",
   "metadata": {},
   "source": [
    "# Задача 3"
   ]
  },
  {
   "cell_type": "markdown",
   "metadata": {},
   "source": [
    "Для логистической регрессии нормализация данных позволит увеличить точность предсказания модели, поскольку если этого не сделать, то больший вклад в прогноз будут вносить предикторы с наибольшей дисперсией. \n",
    "Например если в модели кредитного скоринга взять такие параметры, как возраст (варьируется от 18 до 100) и доход (варьируется от 0 до нескольких млн), то доход будет явно обладать большей дисперсией и внесет больший вклад в прогноз.\n",
    "Также, нормализация позволит более корректно применить регуляризацию, плюс к этому сделает возможным применение методов градиентного спуска (без искажений)."
   ]
  },
  {
   "cell_type": "markdown",
   "metadata": {},
   "source": [
    "Для алгоритма KNN нормализация данных также важна, поскольку в данном алгоритме в основу прогноза входит расчет векторного \n",
    "расстояния между объектами и в случае, если у некоторых признаков будет разный масштаб, отсутствие нормализации может значимо \n",
    "ухудшить предсказательную способность модели."
   ]
  },
  {
   "cell_type": "markdown",
   "metadata": {},
   "source": [
    "Для алгоритма RandomForest нормализация данных практически не повлияет на предсказательную способность модели, поскольку данный \n",
    "алгоритм (как и градиентный бустинг) является устойчивым к монотонным преобразованиям.\n",
    "Разбиение будет произведено тем же способом, что и без нормализации, а значит и выдача предсказаний не изменится."
   ]
  },
  {
   "cell_type": "code",
   "execution_count": null,
   "metadata": {},
   "outputs": [],
   "source": []
  }
 ],
 "metadata": {
  "kernelspec": {
   "display_name": "Python 3",
   "language": "python",
   "name": "python3"
  },
  "language_info": {
   "codemirror_mode": {
    "name": "ipython",
    "version": 3
   },
   "file_extension": ".py",
   "mimetype": "text/x-python",
   "name": "python",
   "nbconvert_exporter": "python",
   "pygments_lexer": "ipython3",
   "version": "3.6.4"
  }
 },
 "nbformat": 4,
 "nbformat_minor": 2
}
