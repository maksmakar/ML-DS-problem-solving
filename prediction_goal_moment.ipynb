{
 "cells": [
  {
   "cell_type": "markdown",
   "metadata": {},
   "source": [
    "##### Задача - построить модель для расчета xG, базируясь на предоставленных данных.\n",
    "##### Если вы не знаете, что такое xG - это вероятность того, что удар игрока будет голом. \n",
    "##### https://www.sports.ru/tribuna/blogs/vadimlukomski/859121.html - это интуитивное объяснение возможной модели. \n",
    " \n",
    "##### Задание должно быть выполнено в Jupyter Notebook, код должен быть на версии Python 3.4 и выше. Легенда для данных прикреплена вместе с документом. Если вы используете дополнительные библиотеки, кроме стандартных, пожалуйста, опишите явно в начале ноутбука, что вы используете. \n",
    "##### Решение должно включать в себя все шаги для корректного построения модели, начиная от предобработки данных, заканчивая шагом predict. Нам очень хотелось бы увидеть, как вы принимаете решения и рассуждаете, поэтому, пожалуйста, комментируйте свой код c помощью Markdown. \n",
    "##### Дополнительными плюсами для задания являются визуализации и анализ решения со стороны бизнеса.\n",
    " \n",
    "##### Легенда:\n",
    "##### event - событие\n",
    "##### is_goal - результат (гол / не гол)\n",
    "##### period - период события\n",
    "##### time - время события в секундах (с начала периода)\n",
    "##### distance - дистанция броска\n",
    "##### angle - угол броска (схема)\n",
    "##### is_rebound - был ли бросок добиванием\n",
    "##### is_pass_before - был ли бросок после передачи\n",
    "##### is_cross_line - были ли бросок после пересечения шайбой оси Х (проходи от центра ворот до середины площадки)\n",
    "##### is_one_touch - был ли бросок в одно касание\n",
    "##### is_fast_attack - была ли атака без передач назад"
   ]
  },
  {
   "cell_type": "code",
   "execution_count": 1,
   "metadata": {},
   "outputs": [],
   "source": [
    "import pandas as pd\n",
    "import numpy as np\n",
    "import matplotlib.pyplot as plt\n",
    "%matplotlib inline"
   ]
  },
  {
   "cell_type": "markdown",
   "metadata": {},
   "source": [
    "### Считаем наш датасет и выведем первые 5 строк по нему"
   ]
  },
  {
   "cell_type": "code",
   "execution_count": 2,
   "metadata": {},
   "outputs": [],
   "source": [
    "df = pd.read_csv('C:/Datasets/shots.csv', sep = ',')"
   ]
  },
  {
   "cell_type": "code",
   "execution_count": 3,
   "metadata": {},
   "outputs": [
    {
     "data": {
      "text/plain": [
       "False    13687\n",
       "True       723\n",
       "Name: is_goal, dtype: int64"
      ]
     },
     "execution_count": 3,
     "metadata": {},
     "output_type": "execute_result"
    }
   ],
   "source": [
    "df['is_goal'].value_counts()"
   ]
  },
  {
   "cell_type": "code",
   "execution_count": 4,
   "metadata": {},
   "outputs": [
    {
     "data": {
      "text/html": [
       "<div>\n",
       "<style scoped>\n",
       "    .dataframe tbody tr th:only-of-type {\n",
       "        vertical-align: middle;\n",
       "    }\n",
       "\n",
       "    .dataframe tbody tr th {\n",
       "        vertical-align: top;\n",
       "    }\n",
       "\n",
       "    .dataframe thead th {\n",
       "        text-align: right;\n",
       "    }\n",
       "</style>\n",
       "<table border=\"1\" class=\"dataframe\">\n",
       "  <thead>\n",
       "    <tr style=\"text-align: right;\">\n",
       "      <th></th>\n",
       "      <th>event</th>\n",
       "      <th>is_goal</th>\n",
       "      <th>period</th>\n",
       "      <th>time</th>\n",
       "      <th>distance</th>\n",
       "      <th>angle</th>\n",
       "      <th>is_rebound</th>\n",
       "      <th>is_pass_before</th>\n",
       "      <th>is_cross_line</th>\n",
       "      <th>is_one_touch</th>\n",
       "      <th>is_fast_attack</th>\n",
       "    </tr>\n",
       "  </thead>\n",
       "  <tbody>\n",
       "    <tr>\n",
       "      <th>0</th>\n",
       "      <td>Shot Attempt - Wide left</td>\n",
       "      <td>False</td>\n",
       "      <td>1</td>\n",
       "      <td>1071.6</td>\n",
       "      <td>17.4</td>\n",
       "      <td>44.492971</td>\n",
       "      <td>False</td>\n",
       "      <td>False</td>\n",
       "      <td>False</td>\n",
       "      <td>False</td>\n",
       "      <td>False</td>\n",
       "    </tr>\n",
       "    <tr>\n",
       "      <th>1</th>\n",
       "      <td>Shot Attempt - Blocked</td>\n",
       "      <td>False</td>\n",
       "      <td>1</td>\n",
       "      <td>519.2</td>\n",
       "      <td>12.9</td>\n",
       "      <td>46.694647</td>\n",
       "      <td>False</td>\n",
       "      <td>False</td>\n",
       "      <td>False</td>\n",
       "      <td>False</td>\n",
       "      <td>False</td>\n",
       "    </tr>\n",
       "    <tr>\n",
       "      <th>2</th>\n",
       "      <td>Shot Attempt - Deflected</td>\n",
       "      <td>False</td>\n",
       "      <td>2</td>\n",
       "      <td>742.9</td>\n",
       "      <td>20.6</td>\n",
       "      <td>59.284706</td>\n",
       "      <td>False</td>\n",
       "      <td>False</td>\n",
       "      <td>False</td>\n",
       "      <td>False</td>\n",
       "      <td>False</td>\n",
       "    </tr>\n",
       "    <tr>\n",
       "      <th>3</th>\n",
       "      <td>Shot Attempt - Blocked</td>\n",
       "      <td>False</td>\n",
       "      <td>1</td>\n",
       "      <td>210.1</td>\n",
       "      <td>16.6</td>\n",
       "      <td>5.419532</td>\n",
       "      <td>False</td>\n",
       "      <td>True</td>\n",
       "      <td>False</td>\n",
       "      <td>True</td>\n",
       "      <td>False</td>\n",
       "    </tr>\n",
       "    <tr>\n",
       "      <th>4</th>\n",
       "      <td>Shot Attempt - Deflected</td>\n",
       "      <td>False</td>\n",
       "      <td>2</td>\n",
       "      <td>599.1</td>\n",
       "      <td>20.1</td>\n",
       "      <td>64.221569</td>\n",
       "      <td>False</td>\n",
       "      <td>False</td>\n",
       "      <td>False</td>\n",
       "      <td>False</td>\n",
       "      <td>False</td>\n",
       "    </tr>\n",
       "  </tbody>\n",
       "</table>\n",
       "</div>"
      ],
      "text/plain": [
       "                      event  is_goal  period    time  distance      angle  \\\n",
       "0  Shot Attempt - Wide left    False       1  1071.6      17.4  44.492971   \n",
       "1    Shot Attempt - Blocked    False       1   519.2      12.9  46.694647   \n",
       "2  Shot Attempt - Deflected    False       2   742.9      20.6  59.284706   \n",
       "3    Shot Attempt - Blocked    False       1   210.1      16.6   5.419532   \n",
       "4  Shot Attempt - Deflected    False       2   599.1      20.1  64.221569   \n",
       "\n",
       "   is_rebound  is_pass_before  is_cross_line  is_one_touch  is_fast_attack  \n",
       "0       False           False          False         False           False  \n",
       "1       False           False          False         False           False  \n",
       "2       False           False          False         False           False  \n",
       "3       False            True          False          True           False  \n",
       "4       False           False          False         False           False  "
      ]
     },
     "execution_count": 4,
     "metadata": {},
     "output_type": "execute_result"
    }
   ],
   "source": [
    "df.head()"
   ]
  },
  {
   "cell_type": "code",
   "execution_count": 5,
   "metadata": {},
   "outputs": [
    {
     "data": {
      "text/html": [
       "<div>\n",
       "<style scoped>\n",
       "    .dataframe tbody tr th:only-of-type {\n",
       "        vertical-align: middle;\n",
       "    }\n",
       "\n",
       "    .dataframe tbody tr th {\n",
       "        vertical-align: top;\n",
       "    }\n",
       "\n",
       "    .dataframe thead th {\n",
       "        text-align: right;\n",
       "    }\n",
       "</style>\n",
       "<table border=\"1\" class=\"dataframe\">\n",
       "  <thead>\n",
       "    <tr style=\"text-align: right;\">\n",
       "      <th></th>\n",
       "      <th>period</th>\n",
       "      <th>time</th>\n",
       "      <th>distance</th>\n",
       "      <th>angle</th>\n",
       "    </tr>\n",
       "  </thead>\n",
       "  <tbody>\n",
       "    <tr>\n",
       "      <th>count</th>\n",
       "      <td>14410.000000</td>\n",
       "      <td>14410.000000</td>\n",
       "      <td>14410.000000</td>\n",
       "      <td>14410.000000</td>\n",
       "    </tr>\n",
       "    <tr>\n",
       "      <th>mean</th>\n",
       "      <td>2.001319</td>\n",
       "      <td>603.731214</td>\n",
       "      <td>13.490527</td>\n",
       "      <td>56.651537</td>\n",
       "    </tr>\n",
       "    <tr>\n",
       "      <th>std</th>\n",
       "      <td>0.825414</td>\n",
       "      <td>350.687775</td>\n",
       "      <td>6.346667</td>\n",
       "      <td>22.474413</td>\n",
       "    </tr>\n",
       "    <tr>\n",
       "      <th>min</th>\n",
       "      <td>1.000000</td>\n",
       "      <td>0.400000</td>\n",
       "      <td>0.100000</td>\n",
       "      <td>-90.000000</td>\n",
       "    </tr>\n",
       "    <tr>\n",
       "      <th>25%</th>\n",
       "      <td>1.000000</td>\n",
       "      <td>300.050000</td>\n",
       "      <td>9.000000</td>\n",
       "      <td>46.468801</td>\n",
       "    </tr>\n",
       "    <tr>\n",
       "      <th>50%</th>\n",
       "      <td>2.000000</td>\n",
       "      <td>599.150000</td>\n",
       "      <td>13.800000</td>\n",
       "      <td>59.569488</td>\n",
       "    </tr>\n",
       "    <tr>\n",
       "      <th>75%</th>\n",
       "      <td>3.000000</td>\n",
       "      <td>900.400000</td>\n",
       "      <td>17.800000</td>\n",
       "      <td>72.170266</td>\n",
       "    </tr>\n",
       "    <tr>\n",
       "      <th>max</th>\n",
       "      <td>4.000000</td>\n",
       "      <td>2316.500000</td>\n",
       "      <td>58.900000</td>\n",
       "      <td>90.000000</td>\n",
       "    </tr>\n",
       "  </tbody>\n",
       "</table>\n",
       "</div>"
      ],
      "text/plain": [
       "             period          time      distance         angle\n",
       "count  14410.000000  14410.000000  14410.000000  14410.000000\n",
       "mean       2.001319    603.731214     13.490527     56.651537\n",
       "std        0.825414    350.687775      6.346667     22.474413\n",
       "min        1.000000      0.400000      0.100000    -90.000000\n",
       "25%        1.000000    300.050000      9.000000     46.468801\n",
       "50%        2.000000    599.150000     13.800000     59.569488\n",
       "75%        3.000000    900.400000     17.800000     72.170266\n",
       "max        4.000000   2316.500000     58.900000     90.000000"
      ]
     },
     "execution_count": 5,
     "metadata": {},
     "output_type": "execute_result"
    }
   ],
   "source": [
    "df.describe()"
   ]
  },
  {
   "cell_type": "code",
   "execution_count": 6,
   "metadata": {},
   "outputs": [],
   "source": [
    "df =  df.applymap(lambda x: 1 if x == True else x)\n",
    "df =  df.applymap(lambda x: 0 if x == False else x)"
   ]
  },
  {
   "cell_type": "markdown",
   "metadata": {},
   "source": [
    "### Создадим некоторые новые предикторы на основе имеющихся. Например добавим косинус угла удара по воротам (признак 'angle').\n",
    "### После этого вычислим расстояние до линии, проходящей через центр ворот (distance*cos(angle))."
   ]
  },
  {
   "cell_type": "code",
   "execution_count": 7,
   "metadata": {},
   "outputs": [],
   "source": [
    "df['rad'] = df['angle']/57.297\n",
    "# df.drop('angle', axis = 1, inplace = True) \n",
    "# Для уменьшения мультиколлинеарности нужно удалить признак angle, т.к. он будет линейно зависимым с новым признаком rad.\n",
    "\n",
    "df['cos_rad'] = np.cos(df['rad'])\n",
    "df['sin_rad'] = np.sin(df['rad'])\n",
    "df['distance_center'] = df['cos_rad'] * df['distance']\n",
    "df['distance_goal'] = df['sin_rad'] * df['distance']"
   ]
  },
  {
   "cell_type": "code",
   "execution_count": 8,
   "metadata": {},
   "outputs": [],
   "source": [
    "df['angle +'] = np.where(df['angle'] >= 0, 1, 0)"
   ]
  },
  {
   "cell_type": "code",
   "execution_count": 9,
   "metadata": {},
   "outputs": [],
   "source": [
    "train = df.sample(frac = 0.7, random_state = 200)\n",
    "test = df.drop(train.index)"
   ]
  },
  {
   "cell_type": "code",
   "execution_count": 10,
   "metadata": {},
   "outputs": [],
   "source": [
    "for i in ['event', 'period']:\n",
    "    freq_encoding = train[i].value_counts() / len(train[i])\n",
    "    train[i + '+' + 'freq'] = train[i].map(freq_encoding)\n",
    "    test[i + '+' + 'freq'] = test[i].map(freq_encoding)"
   ]
  },
  {
   "cell_type": "code",
   "execution_count": 12,
   "metadata": {},
   "outputs": [],
   "source": [
    "import seaborn as sns"
   ]
  },
  {
   "cell_type": "code",
   "execution_count": 13,
   "metadata": {},
   "outputs": [
    {
     "data": {
      "text/plain": [
       "<matplotlib.axes._subplots.AxesSubplot at 0x297bd4f0c88>"
      ]
     },
     "execution_count": 13,
     "metadata": {},
     "output_type": "execute_result"
    },
    {
     "data": {
      "image/png": "[encoded data removed]",
      "text/plain": [
       "<matplotlib.figure.Figure at 0x297bd4f05f8>"
      ]
     },
     "metadata": {},
     "output_type": "display_data"
    }
   ],
   "source": [
    "sns.boxplot(train['time'])"
   ]
  },
  {
   "cell_type": "code",
   "execution_count": 14,
   "metadata": {},
   "outputs": [],
   "source": [
    "bins_time = [0, 130, 580, 700, 970, 1200, np.inf]\n",
    "\n",
    "# объединение категорий вычислял следующим способом\n",
    "\n",
    "# train['angle_bins'] = train['angle_bins'].astype('object', copy = False)\n",
    "#m = []\n",
    "#n = []\n",
    "#for i in train['angle_bins'].unique():\n",
    "    #m.append(i) \n",
    "    #n.append(train[(train['angle_bins'] == i) & (train['is_goal'] == 1)]['is_goal'].count() \n",
    "          #/ train[(train['angle_bins'] == i) & (train['is_goal'] == 0)]['is_goal'].count())\n",
    "# k = list(zip(m,n))\n",
    "\n",
    "# Потом смотрел, какие можно объединить друг с другом\n",
    "\n",
    "train['time_bins'] = pd.cut(train['time'], bins_time)\n",
    "test['time_bins'] = pd.cut(test['time'], bins_time)"
   ]
  },
  {
   "cell_type": "code",
   "execution_count": 15,
   "metadata": {},
   "outputs": [],
   "source": [
    "biv_time = pd.crosstab(train['time_bins'], train['is_goal'])"
   ]
  },
  {
   "cell_type": "code",
   "execution_count": 16,
   "metadata": {},
   "outputs": [
    {
     "data": {
      "text/html": [
       "<div>\n",
       "<style scoped>\n",
       "    .dataframe tbody tr th:only-of-type {\n",
       "        vertical-align: middle;\n",
       "    }\n",
       "\n",
       "    .dataframe tbody tr th {\n",
       "        vertical-align: top;\n",
       "    }\n",
       "\n",
       "    .dataframe thead th {\n",
       "        text-align: right;\n",
       "    }\n",
       "</style>\n",
       "<table border=\"1\" class=\"dataframe\">\n",
       "  <thead>\n",
       "    <tr style=\"text-align: right;\">\n",
       "      <th>is_goal</th>\n",
       "      <th>0</th>\n",
       "      <th>1</th>\n",
       "    </tr>\n",
       "    <tr>\n",
       "      <th>time_bins</th>\n",
       "      <th></th>\n",
       "      <th></th>\n",
       "    </tr>\n",
       "  </thead>\n",
       "  <tbody>\n",
       "    <tr>\n",
       "      <th>(0.0, 130.0]</th>\n",
       "      <td>988</td>\n",
       "      <td>46</td>\n",
       "    </tr>\n",
       "    <tr>\n",
       "      <th>(130.0, 580.0]</th>\n",
       "      <td>3637</td>\n",
       "      <td>214</td>\n",
       "    </tr>\n",
       "    <tr>\n",
       "      <th>(580.0, 700.0]</th>\n",
       "      <td>927</td>\n",
       "      <td>50</td>\n",
       "    </tr>\n",
       "    <tr>\n",
       "      <th>(700.0, 970.0]</th>\n",
       "      <td>2183</td>\n",
       "      <td>101</td>\n",
       "    </tr>\n",
       "    <tr>\n",
       "      <th>(970.0, 1200.0]</th>\n",
       "      <td>1731</td>\n",
       "      <td>111</td>\n",
       "    </tr>\n",
       "    <tr>\n",
       "      <th>(1200.0, inf]</th>\n",
       "      <td>93</td>\n",
       "      <td>6</td>\n",
       "    </tr>\n",
       "  </tbody>\n",
       "</table>\n",
       "</div>"
      ],
      "text/plain": [
       "is_goal             0    1\n",
       "time_bins                 \n",
       "(0.0, 130.0]      988   46\n",
       "(130.0, 580.0]   3637  214\n",
       "(580.0, 700.0]    927   50\n",
       "(700.0, 970.0]   2183  101\n",
       "(970.0, 1200.0]  1731  111\n",
       "(1200.0, inf]      93    6"
      ]
     },
     "execution_count": 16,
     "metadata": {},
     "output_type": "execute_result"
    }
   ],
   "source": [
    "biv_time"
   ]
  },
  {
   "cell_type": "code",
   "execution_count": 17,
   "metadata": {},
   "outputs": [
    {
     "data": {
      "text/plain": [
       "time_bins\n",
       "(0.0, 130.0]       0.170719\n",
       "(130.0, 580.0]    -0.063188\n",
       "(580.0, 700.0]     0.023764\n",
       "(700.0, 970.0]     0.177108\n",
       "(970.0, 1200.0]   -0.149141\n",
       "(1200.0, inf]     -0.153838\n",
       "dtype: float64"
      ]
     },
     "execution_count": 17,
     "metadata": {},
     "output_type": "execute_result"
    }
   ],
   "source": [
    "a= 0.0001\n",
    "WoE_time = np.log((1.0*biv_time[0]/sum(biv_time[0])+a) / (1.0*biv_time[1]/sum(biv_time[1])+a))\n",
    "WoE_time"
   ]
  },
  {
   "cell_type": "code",
   "execution_count": 18,
   "metadata": {},
   "outputs": [
    {
     "data": {
      "text/plain": [
       "[(700.0, 970.0], (970.0, 1200.0], (0.0, 130.0], (130.0, 580.0], (580.0, 700.0], (1200.0, inf]]\n",
       "Categories (6, interval[float64]): [(0.0, 130.0] < (130.0, 580.0] < (580.0, 700.0] < (700.0, 970.0] < (970.0, 1200.0] < (1200.0, inf]]"
      ]
     },
     "execution_count": 18,
     "metadata": {},
     "output_type": "execute_result"
    }
   ],
   "source": [
    "train['time_bins'].unique()"
   ]
  },
  {
   "cell_type": "code",
   "execution_count": 19,
   "metadata": {},
   "outputs": [],
   "source": [
    "train['time_bins'] = train['time_bins'].astype('str', copy = False)"
   ]
  },
  {
   "cell_type": "code",
   "execution_count": 20,
   "metadata": {},
   "outputs": [],
   "source": [
    "bins_list_time = ['(0.0, 130.0]', '(130.0, 580.0]', '(580.0, 700.0]', '(700.0, 970.0]', '(970.0, 1200.0]', '(1200.0, inf]']"
   ]
  },
  {
   "cell_type": "code",
   "execution_count": 21,
   "metadata": {},
   "outputs": [],
   "source": [
    "dict_time = dict(zip(bins_list_time , WoE_time))"
   ]
  },
  {
   "cell_type": "code",
   "execution_count": 22,
   "metadata": {},
   "outputs": [],
   "source": [
    "train['WOE_time_bins'] = train['time_bins'].map(dict_time)"
   ]
  },
  {
   "cell_type": "code",
   "execution_count": 23,
   "metadata": {},
   "outputs": [],
   "source": [
    "test['time_bins'] = test['time_bins'].astype('str', copy = False)\n",
    "test['WOE_time_bins'] = test['time_bins'].map(dict_time)"
   ]
  },
  {
   "cell_type": "code",
   "execution_count": 25,
   "metadata": {},
   "outputs": [
    {
     "data": {
      "text/plain": [
       "time_bins\n",
       "(0.0, 130.0]       0.002772\n",
       "(130.0, 580.0]     0.001569\n",
       "(580.0, 700.0]     0.000054\n",
       "(700.0, 970.0]     0.006568\n",
       "(970.0, 1200.0]    0.004346\n",
       "(1200.0, inf]      0.000251\n",
       "dtype: float64"
      ]
     },
     "execution_count": 25,
     "metadata": {},
     "output_type": "execute_result"
    }
   ],
   "source": [
    "IV_cat=((1.0*biv_time[0]/sum(biv_time[0])+a) -\n",
    " (1.0*biv_time[1]/sum(biv_time[1])+a))*np.log((1.0*biv_time[0]/sum(biv_time[0])+a)\n",
    " / (1.0*biv_time[1]/sum(biv_time[1])+a))\n",
    "IV_cat"
   ]
  },
  {
   "cell_type": "code",
   "execution_count": 26,
   "metadata": {},
   "outputs": [],
   "source": [
    "bins_angle = [- np.inf, 38, 45, 53, 60, np.inf]\n",
    "\n",
    "# объединение категорий вычислял следующим способом\n",
    "\n",
    "# train['angle_bins'] = train['angle_bins'].astype('object', copy = False)\n",
    "#m = []\n",
    "#n = []\n",
    "#for i in train['angle_bins'].unique():\n",
    "    #m.append(i) \n",
    "    #n.append(train[(train['angle_bins'] == i) & (train['is_goal'] == 1)]['is_goal'].count() \n",
    "          #/ train[(train['angle_bins'] == i) & (train['is_goal'] == 0)]['is_goal'].count())\n",
    "# k = list(zip(m,n))\n",
    "\n",
    "# Потом смотрел, какие можно объединить друг с другом\n",
    "\n",
    "train['angle_bins'] = pd.cut(train['angle'], bins_angle)\n",
    "test['angle_bins'] = pd.cut(test['angle'], bins_angle)"
   ]
  },
  {
   "cell_type": "code",
   "execution_count": 27,
   "metadata": {},
   "outputs": [],
   "source": [
    "biv_angle = pd.crosstab(train['angle_bins'], train['is_goal'])"
   ]
  },
  {
   "cell_type": "code",
   "execution_count": 28,
   "metadata": {},
   "outputs": [
    {
     "data": {
      "text/plain": [
       "angle_bins\n",
       "(-inf, 38.0]   -0.331673\n",
       "(38.0, 45.0]    0.058396\n",
       "(45.0, 53.0]    0.312167\n",
       "(53.0, 60.0]    0.470773\n",
       "(60.0, inf]    -0.066118\n",
       "dtype: float64"
      ]
     },
     "execution_count": 28,
     "metadata": {},
     "output_type": "execute_result"
    }
   ],
   "source": [
    "a= 0.0001\n",
    "WoE_angle = np.log((1.0*biv_angle[0]/sum(biv_angle[0])+a) / (1.0*biv_angle[1]/sum(biv_angle[1])+a))\n",
    "WoE_angle"
   ]
  },
  {
   "cell_type": "code",
   "execution_count": 29,
   "metadata": {},
   "outputs": [
    {
     "data": {
      "text/plain": [
       "angle_bins\n",
       "(-inf, 38.0]    0.020756\n",
       "(38.0, 45.0]    0.000240\n",
       "(45.0, 53.0]    0.010192\n",
       "(53.0, 60.0]    0.027904\n",
       "(60.0, inf]     0.002212\n",
       "dtype: float64"
      ]
     },
     "execution_count": 29,
     "metadata": {},
     "output_type": "execute_result"
    }
   ],
   "source": [
    "IV_cat=((1.0*biv_angle[0]/sum(biv_angle[0])+a) -\n",
    " (1.0*biv_angle[1]/sum(biv_angle[1])+a))*np.log((1.0*biv_angle[0]/sum(biv_angle[0])+a)\n",
    " / (1.0*biv_angle[1]/sum(biv_angle[1])+a))\n",
    "IV_cat"
   ]
  },
  {
   "cell_type": "code",
   "execution_count": 30,
   "metadata": {},
   "outputs": [],
   "source": [
    "train['angle_bins'] = train['angle_bins'].astype('str', copy = False)\n",
    "test['angle_bins'] = test['angle_bins'].astype('str', copy = False)"
   ]
  },
  {
   "cell_type": "code",
   "execution_count": 31,
   "metadata": {},
   "outputs": [],
   "source": [
    "bins_list_angle = ['(-inf, 38.0]', '(38.0, 45.0]', '(45.0, 53.0]', '(53.0, 60.0]', '(60.0, inf]']"
   ]
  },
  {
   "cell_type": "code",
   "execution_count": 32,
   "metadata": {},
   "outputs": [],
   "source": [
    "dict_angle = dict(zip(bins_list_angle , WoE_angle))"
   ]
  },
  {
   "cell_type": "code",
   "execution_count": 33,
   "metadata": {},
   "outputs": [],
   "source": [
    "train['WOE_angle_bins'] = train['angle_bins'].map(dict_angle)\n",
    "test['WOE_angle_bins'] = test['angle_bins'].map(dict_angle)"
   ]
  },
  {
   "cell_type": "code",
   "execution_count": 34,
   "metadata": {},
   "outputs": [
    {
     "data": {
      "text/plain": [
       "<matplotlib.axes._subplots.AxesSubplot at 0x297bf6c5dd8>"
      ]
     },
     "execution_count": 34,
     "metadata": {},
     "output_type": "execute_result"
    },
    {
     "data": {
      "image/png": "[encoded data removed]",
      "text/plain": [
       "<matplotlib.figure.Figure at 0x297bf6f6d68>"
      ]
     },
     "metadata": {},
     "output_type": "display_data"
    }
   ],
   "source": [
    "train['distance'].hist()"
   ]
  },
  {
   "cell_type": "code",
   "execution_count": 35,
   "metadata": {},
   "outputs": [],
   "source": [
    "bins_distance = [0, 3, 6, 9, 15, 18, 22, 100]\n",
    "\n",
    "# объединение категорий вычислял следующим способом\n",
    "\n",
    "# train['angle_bins'] = train['angle_bins'].astype('object', copy = False)\n",
    "#m = []\n",
    "#n = []\n",
    "#for i in train['angle_bins'].unique():\n",
    "    #m.append(i) \n",
    "    #n.append(train[(train['angle_bins'] == i) & (train['is_goal'] == 1)]['is_goal'].count() \n",
    "          #/ train[(train['angle_bins'] == i) & (train['is_goal'] == 0)]['is_goal'].count())\n",
    "# k = list(zip(m,n))\n",
    "\n",
    "# Потом смотрел, какие можно объединить друг с другом\n",
    "\n",
    "train['distance_bins'] = pd.cut(train['distance'], bins_distance)\n",
    "test['distance_bins'] = pd.cut(test['distance'], bins_distance)"
   ]
  },
  {
   "cell_type": "code",
   "execution_count": 36,
   "metadata": {},
   "outputs": [],
   "source": [
    "biv_distance = pd.crosstab(train['distance_bins'], train['is_goal'])"
   ]
  },
  {
   "cell_type": "code",
   "execution_count": 37,
   "metadata": {},
   "outputs": [
    {
     "data": {
      "text/html": [
       "<div>\n",
       "<style scoped>\n",
       "    .dataframe tbody tr th:only-of-type {\n",
       "        vertical-align: middle;\n",
       "    }\n",
       "\n",
       "    .dataframe tbody tr th {\n",
       "        vertical-align: top;\n",
       "    }\n",
       "\n",
       "    .dataframe thead th {\n",
       "        text-align: right;\n",
       "    }\n",
       "</style>\n",
       "<table border=\"1\" class=\"dataframe\">\n",
       "  <thead>\n",
       "    <tr style=\"text-align: right;\">\n",
       "      <th>is_goal</th>\n",
       "      <th>0</th>\n",
       "      <th>1</th>\n",
       "    </tr>\n",
       "    <tr>\n",
       "      <th>distance_bins</th>\n",
       "      <th></th>\n",
       "      <th></th>\n",
       "    </tr>\n",
       "  </thead>\n",
       "  <tbody>\n",
       "    <tr>\n",
       "      <th>(0, 3]</th>\n",
       "      <td>348</td>\n",
       "      <td>88</td>\n",
       "    </tr>\n",
       "    <tr>\n",
       "      <th>(3, 6]</th>\n",
       "      <td>930</td>\n",
       "      <td>150</td>\n",
       "    </tr>\n",
       "    <tr>\n",
       "      <th>(6, 9]</th>\n",
       "      <td>935</td>\n",
       "      <td>92</td>\n",
       "    </tr>\n",
       "    <tr>\n",
       "      <th>(9, 15]</th>\n",
       "      <td>3196</td>\n",
       "      <td>113</td>\n",
       "    </tr>\n",
       "    <tr>\n",
       "      <th>(15, 18]</th>\n",
       "      <td>1864</td>\n",
       "      <td>42</td>\n",
       "    </tr>\n",
       "    <tr>\n",
       "      <th>(18, 22]</th>\n",
       "      <td>1766</td>\n",
       "      <td>27</td>\n",
       "    </tr>\n",
       "    <tr>\n",
       "      <th>(22, 100]</th>\n",
       "      <td>520</td>\n",
       "      <td>16</td>\n",
       "    </tr>\n",
       "  </tbody>\n",
       "</table>\n",
       "</div>"
      ],
      "text/plain": [
       "is_goal           0    1\n",
       "distance_bins           \n",
       "(0, 3]          348   88\n",
       "(3, 6]          930  150\n",
       "(6, 9]          935   92\n",
       "(9, 15]        3196  113\n",
       "(15, 18]       1864   42\n",
       "(18, 22]       1766   27\n",
       "(22, 100]       520   16"
      ]
     },
     "execution_count": 37,
     "metadata": {},
     "output_type": "execute_result"
    }
   ],
   "source": [
    "biv_distance"
   ]
  },
  {
   "cell_type": "code",
   "execution_count": 38,
   "metadata": {},
   "outputs": [
    {
     "data": {
      "text/plain": [
       "distance_bins\n",
       "(0, 3]      -1.519133\n",
       "(3, 6]      -1.070917\n",
       "(6, 9]      -0.576936\n",
       "(9, 15]      0.445957\n",
       "(15, 18]     0.895925\n",
       "(18, 22]     1.283081\n",
       "(22, 100]    0.583640\n",
       "dtype: float64"
      ]
     },
     "execution_count": 38,
     "metadata": {},
     "output_type": "execute_result"
    }
   ],
   "source": [
    "a= 0.0001\n",
    "WoE_distance = np.log((1.0*biv_distance[0]/sum(biv_distance[0])+a) / (1.0*biv_distance[1]/sum(biv_distance[1])+a))\n",
    "WoE_distance"
   ]
  },
  {
   "cell_type": "code",
   "execution_count": 40,
   "metadata": {},
   "outputs": [
    {
     "data": {
      "text/plain": [
       "distance_bins\n",
       "(0, 3]       0.197884\n",
       "(3, 6]       0.200048\n",
       "(6, 9]       0.044095\n",
       "(9, 15]      0.053662\n",
       "(15, 18]     0.103438\n",
       "(18, 22]     0.171434\n",
       "(22, 100]    0.014063\n",
       "dtype: float64"
      ]
     },
     "execution_count": 40,
     "metadata": {},
     "output_type": "execute_result"
    }
   ],
   "source": [
    "IV_cat=((1.0*biv_distance[0]/sum(biv_distance[0])+a) -\n",
    " (1.0*biv_distance[1]/sum(biv_distance[1])+a))*np.log((1.0*biv_distance[0]/sum(biv_distance[0])+a)\n",
    " / (1.0*biv_distance[1]/sum(biv_distance[1])+a))\n",
    "IV_cat"
   ]
  },
  {
   "cell_type": "code",
   "execution_count": 41,
   "metadata": {},
   "outputs": [],
   "source": [
    "train['distance_bins'] = train['distance_bins'].astype('str', copy = False)\n",
    "test['distance_bins'] = test['distance_bins'].astype('str', copy = False)"
   ]
  },
  {
   "cell_type": "code",
   "execution_count": 42,
   "metadata": {},
   "outputs": [],
   "source": [
    "bins_list_distance = ['(0, 3]', '(3, 6]', '(6, 9]', '(9, 15]', '(15, 18]', '(18, 22]', '(22, 100]']"
   ]
  },
  {
   "cell_type": "code",
   "execution_count": 43,
   "metadata": {},
   "outputs": [],
   "source": [
    "dict_distance = dict(zip(bins_list_distance , WoE_distance))"
   ]
  },
  {
   "cell_type": "code",
   "execution_count": 44,
   "metadata": {},
   "outputs": [],
   "source": [
    "train['WOE_distance_bins'] = train['distance_bins'].map(dict_distance)\n",
    "test['WOE_distance_bins'] = test['distance_bins'].map(dict_distance)"
   ]
  },
  {
   "cell_type": "code",
   "execution_count": 45,
   "metadata": {},
   "outputs": [],
   "source": [
    "cat_list = ['angle_bins', 'distance_bins', 'time_bins', 'event', 'period']\n",
    "\n",
    "for i in cat_list:\n",
    "    train[i + ' mean'] = train[i].map(train.groupby(i)['is_goal'].mean())\n",
    "    test[i + ' mean'] = test[i].map(test.groupby(i)['is_goal'].mean())\n",
    "    \n",
    "#train.drop(['angle_bins', 'distance_bins', 'time_bins','event'], axis = 1, inplace = True)\n",
    "#test.drop(['angle_bins', 'distance_bins', 'time_bins', 'event'], axis = 1, inplace = True)"
   ]
  },
  {
   "cell_type": "code",
   "execution_count": 46,
   "metadata": {},
   "outputs": [],
   "source": [
    "train.drop('angle', axis = 1, inplace = True)\n",
    "test.drop('angle', axis = 1, inplace = True)"
   ]
  },
  {
   "cell_type": "code",
   "execution_count": 47,
   "metadata": {},
   "outputs": [
    {
     "name": "stdout",
     "output_type": "stream",
     "text": [
      "<class 'pandas.core.frame.DataFrame'>\n",
      "Int64Index: 10087 entries, 11411 to 11545\n",
      "Data columns (total 29 columns):\n",
      "event                 10087 non-null object\n",
      "is_goal               10087 non-null int64\n",
      "period                10087 non-null int64\n",
      "time                  10087 non-null float64\n",
      "distance              10087 non-null float64\n",
      "is_rebound            10087 non-null int64\n",
      "is_pass_before        10087 non-null int64\n",
      "is_cross_line         10087 non-null int64\n",
      "is_one_touch          10087 non-null int64\n",
      "is_fast_attack        10087 non-null int64\n",
      "rad                   10087 non-null float64\n",
      "cos_rad               10087 non-null float64\n",
      "sin_rad               10087 non-null float64\n",
      "distance_center       10087 non-null float64\n",
      "distance_goal         10087 non-null float64\n",
      "angle +               10087 non-null int32\n",
      "event+freq            10087 non-null float64\n",
      "period+freq           10087 non-null float64\n",
      "time_bins             10087 non-null object\n",
      "WOE_time_bins         10087 non-null float64\n",
      "angle_bins            10087 non-null object\n",
      "WOE_angle_bins        10087 non-null float64\n",
      "distance_bins         10087 non-null object\n",
      "WOE_distance_bins     10087 non-null float64\n",
      "angle_bins mean       10087 non-null float64\n",
      "distance_bins mean    10087 non-null float64\n",
      "time_bins mean        10087 non-null float64\n",
      "event mean            10087 non-null float64\n",
      "period mean           10087 non-null float64\n",
      "dtypes: float64(17), int32(1), int64(7), object(4)\n",
      "memory usage: 2.3+ MB\n"
     ]
    }
   ],
   "source": [
    "train.info()"
   ]
  },
  {
   "cell_type": "code",
   "execution_count": 48,
   "metadata": {},
   "outputs": [],
   "source": [
    "train['sum_'] = train.loc[:, 'is_rebound':'is_fast_attack'].sum(axis=1)\n",
    "test['sum_'] = test.loc[:, 'is_rebound':'is_fast_attack'].sum(axis=1)\n",
    "\n",
    "train['sum_1,4,5'] = train.loc[:, ['is_rebound', 'is_one_touch', 'is_fast_attack']].sum(axis=1)\n",
    "test['sum_1,4,5'] = test.loc[:, ['is_rebound', 'is_one_touch', 'is_fast_attack']].sum(axis=1)\n",
    "\n",
    "train['sum_1,3,5'] = train.loc[:, ['is_rebound', 'is_cross_line', 'is_fast_attack']].sum(axis=1)\n",
    "test['sum_1,3,5'] = test.loc[:, ['is_rebound', 'is_cross_line', 'is_fast_attack']].sum(axis=1)\n",
    "\n",
    "train['sum_3,4,5'] = train.loc[:, ['is_one_touch', 'is_cross_line', 'is_fast_attack']].sum(axis=1)\n",
    "test['sum_3,4,5'] = test.loc[:, ['is_one_touch', 'is_cross_line', 'is_fast_attack']].sum(axis=1)\n",
    "\n",
    "train['sum_1,2,3'] = train.loc[:, ['is_rebound', 'is_cross_line', 'is_pass_before']].sum(axis=1)\n",
    "test['sum_1,2,3'] = test.loc[:, ['is_rebound', 'is_cross_line', 'is_pass_before']].sum(axis=1)"
   ]
  },
  {
   "cell_type": "code",
   "execution_count": 49,
   "metadata": {},
   "outputs": [
    {
     "name": "stdout",
     "output_type": "stream",
     "text": [
      "predictor: time Lambda: 0.685768\n",
      "predictor: distance Lambda: 0.708826\n",
      "predictor: rad Lambda: 1.354691\n",
      "predictor: cos_rad Lambda: 0.766999\n",
      "predictor: distance_center Lambda: 0.517407\n"
     ]
    }
   ],
   "source": [
    "train['rad'].replace(0.0, 0.001, inplace = True) # Заменяем 0 на стремящееся к нулю значение\n",
    "\n",
    "from scipy.stats import boxcox\n",
    "\n",
    "for i in ['time', 'distance', 'rad', 'cos_rad', 'distance_center']:\n",
    "    transformed, lam = boxcox(np.absolute(train[i]))\n",
    "    print('predictor:', i, 'Lambda: %f' % lam)\n",
    "    if lam < -0.25:\n",
    "        train[i] = np.sign(train[i]) * (np.absolute(train[i])** (-1/2))\n",
    "        test[i] = np.sign(test[i]) * (np.absolute(test[i])** (-1/2))\n",
    "    if -0.25 <= lam <= 0.25:\n",
    "        train[i] = np.log(np.absolute(train[i])+ 0.001)\n",
    "        test[i] = np.log(np.absolute(test[i])+ 0.001)\n",
    "    if 0.25 < lam < 0.75:\n",
    "        train[i] = np.sign(train[i]) * (np.absolute(train[i])** (1/2))\n",
    "        test[i] = np.sign(test[i]) * (np.absolute(test[i])** (1/2))"
   ]
  },
  {
   "cell_type": "code",
   "execution_count": 50,
   "metadata": {},
   "outputs": [],
   "source": [
    "y_train = train['is_goal']\n",
    "train.drop('is_goal', axis=1, inplace = True)\n",
    "\n",
    "y_test = test['is_goal']\n",
    "test.drop('is_goal', axis=1, inplace = True)"
   ]
  },
  {
   "cell_type": "code",
   "execution_count": 51,
   "metadata": {},
   "outputs": [],
   "source": [
    "train_dummies = pd.get_dummies(train)\n",
    "test_dummies = pd.get_dummies(test)"
   ]
  },
  {
   "cell_type": "code",
   "execution_count": 52,
   "metadata": {},
   "outputs": [],
   "source": [
    "for i in ['event', 'time_bins', 'angle_bins', 'distance_bins']:\n",
    "    train[i] = train[i].astype('str', copy = False)\n",
    "    test[i] = test[i].astype('str', copy = False)"
   ]
  },
  {
   "cell_type": "code",
   "execution_count": 53,
   "metadata": {},
   "outputs": [
    {
     "name": "stdout",
     "output_type": "stream",
     "text": [
      "<class 'pandas.core.frame.DataFrame'>\n",
      "Int64Index: 10087 entries, 11411 to 11545\n",
      "Data columns (total 58 columns):\n",
      "period                                10087 non-null int64\n",
      "time                                  10087 non-null float64\n",
      "distance                              10087 non-null float64\n",
      "is_rebound                            10087 non-null int64\n",
      "is_pass_before                        10087 non-null int64\n",
      "is_cross_line                         10087 non-null int64\n",
      "is_one_touch                          10087 non-null int64\n",
      "is_fast_attack                        10087 non-null int64\n",
      "rad                                   10087 non-null float64\n",
      "cos_rad                               10087 non-null float64\n",
      "sin_rad                               10087 non-null float64\n",
      "distance_center                       10087 non-null float64\n",
      "distance_goal                         10087 non-null float64\n",
      "angle +                               10087 non-null int32\n",
      "event+freq                            10087 non-null float64\n",
      "period+freq                           10087 non-null float64\n",
      "WOE_time_bins                         10087 non-null float64\n",
      "WOE_angle_bins                        10087 non-null float64\n",
      "WOE_distance_bins                     10087 non-null float64\n",
      "angle_bins mean                       10087 non-null float64\n",
      "distance_bins mean                    10087 non-null float64\n",
      "time_bins mean                        10087 non-null float64\n",
      "event mean                            10087 non-null float64\n",
      "period mean                           10087 non-null float64\n",
      "sum_                                  10087 non-null int64\n",
      "sum_1,4,5                             10087 non-null int64\n",
      "sum_1,3,5                             10087 non-null int64\n",
      "sum_3,4,5                             10087 non-null int64\n",
      "sum_1,2,3                             10087 non-null int64\n",
      "event_Shot Attempt - Blocked          10087 non-null uint8\n",
      "event_Shot Attempt - Bottom middle    10087 non-null uint8\n",
      "event_Shot Attempt - Deflected        10087 non-null uint8\n",
      "event_Shot Attempt - Lower left       10087 non-null uint8\n",
      "event_Shot Attempt - Lower right      10087 non-null uint8\n",
      "event_Shot Attempt - Over the net     10087 non-null uint8\n",
      "event_Shot Attempt - Top middle       10087 non-null uint8\n",
      "event_Shot Attempt - Upper left       10087 non-null uint8\n",
      "event_Shot Attempt - Upper right      10087 non-null uint8\n",
      "event_Shot Attempt - Wide left        10087 non-null uint8\n",
      "event_Shot Attempt - Wide right       10087 non-null uint8\n",
      "time_bins_(0.0, 130.0]                10087 non-null uint8\n",
      "time_bins_(1200.0, inf]               10087 non-null uint8\n",
      "time_bins_(130.0, 580.0]              10087 non-null uint8\n",
      "time_bins_(580.0, 700.0]              10087 non-null uint8\n",
      "time_bins_(700.0, 970.0]              10087 non-null uint8\n",
      "time_bins_(970.0, 1200.0]             10087 non-null uint8\n",
      "angle_bins_(-inf, 38.0]               10087 non-null uint8\n",
      "angle_bins_(38.0, 45.0]               10087 non-null uint8\n",
      "angle_bins_(45.0, 53.0]               10087 non-null uint8\n",
      "angle_bins_(53.0, 60.0]               10087 non-null uint8\n",
      "angle_bins_(60.0, inf]                10087 non-null uint8\n",
      "distance_bins_(0, 3]                  10087 non-null uint8\n",
      "distance_bins_(15, 18]                10087 non-null uint8\n",
      "distance_bins_(18, 22]                10087 non-null uint8\n",
      "distance_bins_(22, 100]               10087 non-null uint8\n",
      "distance_bins_(3, 6]                  10087 non-null uint8\n",
      "distance_bins_(6, 9]                  10087 non-null uint8\n",
      "distance_bins_(9, 15]                 10087 non-null uint8\n",
      "dtypes: float64(17), int32(1), int64(11), uint8(29)\n",
      "memory usage: 2.5 MB\n"
     ]
    }
   ],
   "source": [
    "train_dummies.info()"
   ]
  },
  {
   "cell_type": "code",
   "execution_count": 54,
   "metadata": {},
   "outputs": [
    {
     "data": {
      "text/plain": [
       "event                 0\n",
       "period                0\n",
       "time                  0\n",
       "distance              0\n",
       "is_rebound            0\n",
       "is_pass_before        0\n",
       "is_cross_line         0\n",
       "is_one_touch          0\n",
       "is_fast_attack        0\n",
       "rad                   0\n",
       "cos_rad               0\n",
       "sin_rad               0\n",
       "distance_center       0\n",
       "distance_goal         0\n",
       "angle +               0\n",
       "event+freq            0\n",
       "period+freq           0\n",
       "time_bins             0\n",
       "WOE_time_bins         0\n",
       "angle_bins            0\n",
       "WOE_angle_bins        0\n",
       "distance_bins         0\n",
       "WOE_distance_bins     0\n",
       "angle_bins mean       0\n",
       "distance_bins mean    0\n",
       "time_bins mean        0\n",
       "event mean            0\n",
       "period mean           0\n",
       "sum_                  0\n",
       "sum_1,4,5             0\n",
       "sum_1,3,5             0\n",
       "sum_3,4,5             0\n",
       "sum_1,2,3             0\n",
       "dtype: int64"
      ]
     },
     "execution_count": 54,
     "metadata": {},
     "output_type": "execute_result"
    }
   ],
   "source": [
    "test.isnull().sum()"
   ]
  },
  {
   "cell_type": "code",
   "execution_count": 55,
   "metadata": {},
   "outputs": [],
   "source": [
    "from sklearn.preprocessing import StandardScaler\n",
    "\n",
    "scaler = StandardScaler()\n",
    "\n",
    "scaler.fit(train_dummies)\n",
    "\n",
    "train_s = scaler.transform(train_dummies)\n",
    "test_s = scaler.transform(test_dummies)"
   ]
  },
  {
   "cell_type": "code",
   "execution_count": 56,
   "metadata": {},
   "outputs": [
    {
     "name": "stdout",
     "output_type": "stream",
     "text": [
      "AUC на тестовой выборке: 0.839\n",
      "Наилучшее значение гиперпараметров: {'max_iter': 50}\n",
      "Наилучшее значение AUC: 0.847\n"
     ]
    }
   ],
   "source": [
    "from sklearn.linear_model import LogisticRegression\n",
    "from sklearn.metrics import roc_auc_score\n",
    "from sklearn.model_selection import GridSearchCV\n",
    "from sklearn.model_selection import StratifiedKFold\n",
    "\n",
    "logreg_grid = LogisticRegression(C = 0.1, penalty = 'l2', solver = 'liblinear')\n",
    "\n",
    "param_grid = {'max_iter': [50, 80, 100, 120, 200, 300, 400, 500]} # Задаем решетку гиперпараметров. \n",
    "\n",
    "stratcv = StratifiedKFold(n_splits=10) # Указываем количество блоков для кросс-валидации.\n",
    "\n",
    "#создаем экземпляр класса GridSearchCV\n",
    "grid_search = GridSearchCV(logreg_grid, param_grid, \n",
    "                           scoring='roc_auc', \n",
    "                           n_jobs=-1, cv=stratcv)\n",
    "\n",
    "grid_search.fit(train_s, y_train)\n",
    "\n",
    "test_score = roc_auc_score(y_test, grid_search.predict_proba(test_s)[:, 1])\n",
    " #смотрим результаты GridSearchCV\n",
    "print('AUC на тестовой выборке: {:.3f}'.format(test_score))\n",
    "print('Наилучшее значение гиперпараметров: {}'.format(grid_search.best_params_))\n",
    "print('Наилучшее значение AUC: {:.3f}'.format(grid_search.best_score_))"
   ]
  },
  {
   "cell_type": "code",
   "execution_count": 57,
   "metadata": {},
   "outputs": [
    {
     "name": "stdout",
     "output_type": "stream",
     "text": [
      "AUC на тестовой выборке: 0.846\n",
      "Наилучшее значение гиперпараметров: {'colsample_bylevel': 0.9, 'colsample_bytree': 0.9}\n",
      "Наилучшее значение AUC: 0.855\n"
     ]
    }
   ],
   "source": [
    "import xgboost as XGB\n",
    "Boost = XGB.XGBClassifier(n_jobs=-1, reg_alpha = 5, reg_lambda = 0.1,\n",
    "                          min_samples_leaf = 2, min_samples_split = 5, max_depth = 3, n_estimators = 700, learning_rate = 0.01,\n",
    "                          subsample = 0.9)\n",
    "\n",
    "param_grid = {'colsample_bylevel' : [0.6, 0.7, 0.8, 0.9], 'colsample_bytree' : [0.6, 0.7, 0.8, 0.9]}\n",
    "\n",
    "stratcv = StratifiedKFold(n_splits=3) \n",
    "\n",
    "\n",
    "grid_search = GridSearchCV(Boost, param_grid, \n",
    "                           scoring='roc_auc', \n",
    "                           n_jobs=-1, cv=stratcv)\n",
    "\n",
    "grid_search.fit(train_s, y_train)\n",
    "\n",
    "test_score = roc_auc_score(y_test, grid_search.predict_proba(test_s)[:, 1])\n",
    "\n",
    "print('AUC на тестовой выборке: {:.3f}'.format(test_score))\n",
    "print('Наилучшее значение гиперпараметров: {}'.format(grid_search.best_params_))\n",
    "print('Наилучшее значение AUC: {:.3f}'.format(grid_search.best_score_))"
   ]
  },
  {
   "cell_type": "code",
   "execution_count": 70,
   "metadata": {},
   "outputs": [
    {
     "data": {
      "text/plain": [
       "XGBClassifier(base_score=0.5, booster='gbtree', colsample_bylevel=0.9,\n",
       "       colsample_bytree=0.9, gamma=0, learning_rate=0.01, max_delta_step=0,\n",
       "       max_depth=3, min_child_weight=1, min_samples_leaf=2,\n",
       "       min_samples_split=5, missing=None, n_estimators=700, n_jobs=-1,\n",
       "       nthread=None, objective='binary:logistic', random_state=0,\n",
       "       reg_alpha=5, reg_lambda=0.1, scale_pos_weight=1, seed=None,\n",
       "       silent=True, subsample=0.9)"
      ]
     },
     "execution_count": 70,
     "metadata": {},
     "output_type": "execute_result"
    }
   ],
   "source": [
    "# После подбора параметров, обучим нашу модель бустинга\n",
    "Boost_1 = XGB.XGBClassifier(n_jobs=-1, reg_alpha = 5, reg_lambda = 0.1,\n",
    "                          min_samples_leaf = 2, min_samples_split = 5, max_depth = 3, n_estimators = 700, learning_rate = 0.01,\n",
    "                          subsample = 0.9, colsample_bylevel = 0.9, colsample_bytree = 0.9)\n",
    "\n",
    "Boost_1.fit(train_s, y_train)"
   ]
  },
  {
   "cell_type": "code",
   "execution_count": 66,
   "metadata": {},
   "outputs": [],
   "source": [
    "from xgboost import plot_importance"
   ]
  },
  {
   "cell_type": "code",
   "execution_count": 88,
   "metadata": {},
   "outputs": [
    {
     "data": {
      "text/plain": [
       "<matplotlib.axes._subplots.AxesSubplot at 0x297c33460f0>"
      ]
     },
     "execution_count": 88,
     "metadata": {},
     "output_type": "execute_result"
    },
    {
     "data": {
      "image/png": "[encoded data removed]",
      "text/plain": [
       "<matplotlib.figure.Figure at 0x297c1829e80>"
      ]
     },
     "metadata": {},
     "output_type": "display_data"
    }
   ],
   "source": [
    "XGB.plot_importance(Boost_1, max_num_features=15, height=0.8)"
   ]
  },
  {
   "cell_type": "code",
   "execution_count": 85,
   "metadata": {},
   "outputs": [
    {
     "name": "stdout",
     "output_type": "stream",
     "text": [
      " 1) WOE_distance_bins                   0.201364\n",
      " 2) time                                0.153618\n",
      " 3) period                              0.104686\n",
      " 4) sin_rad                             0.094603\n",
      " 5) distance_center                     0.062871\n",
      " 6) is_fast_attack                      0.053084\n",
      " 7) distance_bins mean                  0.047153\n",
      " 8) angle +                             0.045374\n",
      " 9) event                               0.031435\n",
      "10) is_cross_line                       0.029359\n",
      "11) period mean                         0.024021\n",
      "12) period+freq                         0.021056\n",
      "13) sum_3,4,5                           0.014828\n",
      "14) time_bins mean                      0.010973\n"
     ]
    },
    {
     "ename": "IndexError",
     "evalue": "index 37 is out of bounds for axis 0 with size 33",
     "output_type": "error",
     "traceback": [
      "\u001b[1;31m---------------------------------------------------------------------------\u001b[0m",
      "\u001b[1;31mIndexError\u001b[0m                                Traceback (most recent call last)",
      "\u001b[1;32m<ipython-input-85-174a38b847ce>\u001b[0m in \u001b[0;36m<module>\u001b[1;34m()\u001b[0m\n\u001b[0;32m      7\u001b[0m \u001b[1;32mfor\u001b[0m \u001b[0mf\u001b[0m \u001b[1;32min\u001b[0m \u001b[0mrange\u001b[0m\u001b[1;33m(\u001b[0m\u001b[0mtrain\u001b[0m\u001b[1;33m.\u001b[0m\u001b[0mshape\u001b[0m\u001b[1;33m[\u001b[0m\u001b[1;36m1\u001b[0m\u001b[1;33m]\u001b[0m\u001b[1;33m)\u001b[0m\u001b[1;33m:\u001b[0m\u001b[1;33m\u001b[0m\u001b[0m\n\u001b[0;32m      8\u001b[0m     print('%2d) %-*s %f' % (f + 1, 35,\n\u001b[1;32m----> 9\u001b[1;33m                             \u001b[0mfeat_labels\u001b[0m\u001b[1;33m[\u001b[0m\u001b[0mindices\u001b[0m\u001b[1;33m[\u001b[0m\u001b[0mf\u001b[0m\u001b[1;33m]\u001b[0m\u001b[1;33m]\u001b[0m\u001b[1;33m,\u001b[0m\u001b[1;33m\u001b[0m\u001b[0m\n\u001b[0m\u001b[0;32m     10\u001b[0m                             importances[indices[f]]))\n",
      "\u001b[1;32m~\\Anaconda3\\lib\\site-packages\\pandas\\core\\indexes\\base.py\u001b[0m in \u001b[0;36m__getitem__\u001b[1;34m(self, key)\u001b[0m\n\u001b[0;32m   1741\u001b[0m \u001b[1;33m\u001b[0m\u001b[0m\n\u001b[0;32m   1742\u001b[0m         \u001b[1;32mif\u001b[0m \u001b[0mis_scalar\u001b[0m\u001b[1;33m(\u001b[0m\u001b[0mkey\u001b[0m\u001b[1;33m)\u001b[0m\u001b[1;33m:\u001b[0m\u001b[1;33m\u001b[0m\u001b[0m\n\u001b[1;32m-> 1743\u001b[1;33m             \u001b[1;32mreturn\u001b[0m \u001b[0mgetitem\u001b[0m\u001b[1;33m(\u001b[0m\u001b[0mkey\u001b[0m\u001b[1;33m)\u001b[0m\u001b[1;33m\u001b[0m\u001b[0m\n\u001b[0m\u001b[0;32m   1744\u001b[0m \u001b[1;33m\u001b[0m\u001b[0m\n\u001b[0;32m   1745\u001b[0m         \u001b[1;32mif\u001b[0m \u001b[0misinstance\u001b[0m\u001b[1;33m(\u001b[0m\u001b[0mkey\u001b[0m\u001b[1;33m,\u001b[0m \u001b[0mslice\u001b[0m\u001b[1;33m)\u001b[0m\u001b[1;33m:\u001b[0m\u001b[1;33m\u001b[0m\u001b[0m\n",
      "\u001b[1;31mIndexError\u001b[0m: index 37 is out of bounds for axis 0 with size 33"
     ]
    }
   ],
   "source": [
    "feat_labels = train.columns\n",
    "# записываем важности\n",
    "importances =  Boost_1.feature_importances_\n",
    "# сортирум важности по убыванию\n",
    "indices = np.argsort(importances)[::-1]\n",
    "# сопоставляем важности названиям предикторов\n",
    "for f in range(train.shape[1]):\n",
    "    print('%2d) %-*s %f' % (f + 1, 35,\n",
    "                            feat_labels[indices[f]],\n",
    "                            importances[indices[f]]))"
   ]
  },
  {
   "cell_type": "code",
   "execution_count": null,
   "metadata": {},
   "outputs": [],
   "source": []
  }
 ],
 "metadata": {
  "kernelspec": {
   "display_name": "Python 3",
   "language": "python",
   "name": "python3"
  },
  "language_info": {
   "codemirror_mode": {
    "name": "ipython",
    "version": 3
   },
   "file_extension": ".py",
   "mimetype": "text/x-python",
   "name": "python",
   "nbconvert_exporter": "python",
   "pygments_lexer": "ipython3",
   "version": "3.6.4"
  }
 },
 "nbformat": 4,
 "nbformat_minor": 2
}
