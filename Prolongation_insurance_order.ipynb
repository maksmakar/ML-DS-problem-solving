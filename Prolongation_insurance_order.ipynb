{
 "cells": [
  {
   "cell_type": "code",
   "execution_count": 1,
   "metadata": {},
   "outputs": [],
   "source": [
    "import pandas as pd\n",
    "import numpy as np\n",
    "import matplotlib.pyplot as plt\n",
    "%matplotlib inline"
   ]
  },
  {
   "cell_type": "code",
   "execution_count": 2,
   "metadata": {},
   "outputs": [],
   "source": [
    "df = pd.read_excel('C:/Datasets/Zetta/renewed_data.xlsx')"
   ]
  },
  {
   "cell_type": "markdown",
   "metadata": {},
   "source": [
    "#### Зададим количество отображаемых строк и столбцов"
   ]
  },
  {
   "cell_type": "code",
   "execution_count": 3,
   "metadata": {},
   "outputs": [],
   "source": [
    "pd.set_option('display.max_columns', 200)\n",
    "pd.set_option('max_rows', 500)"
   ]
  },
  {
   "cell_type": "code",
   "execution_count": 4,
   "metadata": {},
   "outputs": [
    {
     "data": {
      "text/html": [
       "<div>\n",
       "<style scoped>\n",
       "    .dataframe tbody tr th:only-of-type {\n",
       "        vertical-align: middle;\n",
       "    }\n",
       "\n",
       "    .dataframe tbody tr th {\n",
       "        vertical-align: top;\n",
       "    }\n",
       "\n",
       "    .dataframe thead th {\n",
       "        text-align: right;\n",
       "    }\n",
       "</style>\n",
       "<table border=\"1\" class=\"dataframe\">\n",
       "  <thead>\n",
       "    <tr style=\"text-align: right;\">\n",
       "      <th></th>\n",
       "      <th>ID</th>\n",
       "      <th>Make</th>\n",
       "      <th>Model</th>\n",
       "      <th>Power</th>\n",
       "      <th>Price</th>\n",
       "      <th>Is_credit</th>\n",
       "      <th>Begin_month</th>\n",
       "      <th>End_month</th>\n",
       "      <th>Is_renewed</th>\n",
       "      <th>Years_renewed</th>\n",
       "      <th>Price_change</th>\n",
       "      <th>Sales_channel</th>\n",
       "      <th>Fillial</th>\n",
       "      <th>Agent</th>\n",
       "      <th>Min_age</th>\n",
       "      <th>Min_exp</th>\n",
       "      <th>M_F</th>\n",
       "      <th>Region</th>\n",
       "      <th>OSAGO</th>\n",
       "      <th>Deductible</th>\n",
       "    </tr>\n",
       "  </thead>\n",
       "  <tbody>\n",
       "    <tr>\n",
       "      <th>0</th>\n",
       "      <td>1000000301</td>\n",
       "      <td>Kia</td>\n",
       "      <td>Ceed</td>\n",
       "      <td>129.0</td>\n",
       "      <td>614500.0</td>\n",
       "      <td>1</td>\n",
       "      <td>2</td>\n",
       "      <td>2</td>\n",
       "      <td>0</td>\n",
       "      <td>1</td>\n",
       "      <td>0.04</td>\n",
       "      <td>52</td>\n",
       "      <td>Санкт-Петербург</td>\n",
       "      <td>245.0</td>\n",
       "      <td>58</td>\n",
       "      <td>4</td>\n",
       "      <td>F</td>\n",
       "      <td>Санкт-Петербург</td>\n",
       "      <td>1</td>\n",
       "      <td>0.0</td>\n",
       "    </tr>\n",
       "    <tr>\n",
       "      <th>1</th>\n",
       "      <td>1000034155</td>\n",
       "      <td>Ford</td>\n",
       "      <td>Focus</td>\n",
       "      <td>125.0</td>\n",
       "      <td>708000.0</td>\n",
       "      <td>1</td>\n",
       "      <td>4</td>\n",
       "      <td>4</td>\n",
       "      <td>1</td>\n",
       "      <td>0</td>\n",
       "      <td>-0.28</td>\n",
       "      <td>52</td>\n",
       "      <td>Санкт-Петербург</td>\n",
       "      <td>493.0</td>\n",
       "      <td>52</td>\n",
       "      <td>18</td>\n",
       "      <td>F</td>\n",
       "      <td>Мурманская</td>\n",
       "      <td>0</td>\n",
       "      <td>15000.0</td>\n",
       "    </tr>\n",
       "    <tr>\n",
       "      <th>2</th>\n",
       "      <td>1000036840</td>\n",
       "      <td>Mitsubishi</td>\n",
       "      <td>Pajero</td>\n",
       "      <td>178.0</td>\n",
       "      <td>900000.0</td>\n",
       "      <td>0</td>\n",
       "      <td>10</td>\n",
       "      <td>10</td>\n",
       "      <td>1</td>\n",
       "      <td>0</td>\n",
       "      <td>-0.01</td>\n",
       "      <td>50</td>\n",
       "      <td>Москва</td>\n",
       "      <td>NaN</td>\n",
       "      <td>41</td>\n",
       "      <td>17</td>\n",
       "      <td>M</td>\n",
       "      <td>Москва</td>\n",
       "      <td>0</td>\n",
       "      <td>20000.0</td>\n",
       "    </tr>\n",
       "    <tr>\n",
       "      <th>3</th>\n",
       "      <td>1000055374</td>\n",
       "      <td>Subaru</td>\n",
       "      <td>Outback</td>\n",
       "      <td>167.0</td>\n",
       "      <td>1500000.0</td>\n",
       "      <td>0</td>\n",
       "      <td>1</td>\n",
       "      <td>1</td>\n",
       "      <td>1</td>\n",
       "      <td>0</td>\n",
       "      <td>-0.10</td>\n",
       "      <td>50</td>\n",
       "      <td>Москва</td>\n",
       "      <td>NaN</td>\n",
       "      <td>34</td>\n",
       "      <td>15</td>\n",
       "      <td>M</td>\n",
       "      <td>Москва</td>\n",
       "      <td>0</td>\n",
       "      <td>10000.0</td>\n",
       "    </tr>\n",
       "    <tr>\n",
       "      <th>4</th>\n",
       "      <td>1000070327</td>\n",
       "      <td>Ford</td>\n",
       "      <td>Mondeo</td>\n",
       "      <td>199.0</td>\n",
       "      <td>814302.0</td>\n",
       "      <td>1</td>\n",
       "      <td>6</td>\n",
       "      <td>6</td>\n",
       "      <td>0</td>\n",
       "      <td>3</td>\n",
       "      <td>-0.21</td>\n",
       "      <td>52</td>\n",
       "      <td>Санкт-Петербург</td>\n",
       "      <td>1096.0</td>\n",
       "      <td>43</td>\n",
       "      <td>17</td>\n",
       "      <td>M</td>\n",
       "      <td>Санкт-Петербург</td>\n",
       "      <td>0</td>\n",
       "      <td>20000.0</td>\n",
       "    </tr>\n",
       "  </tbody>\n",
       "</table>\n",
       "</div>"
      ],
      "text/plain": [
       "           ID        Make    Model  Power      Price  Is_credit  Begin_month  \\\n",
       "0  1000000301         Kia     Ceed  129.0   614500.0          1            2   \n",
       "1  1000034155        Ford    Focus  125.0   708000.0          1            4   \n",
       "2  1000036840  Mitsubishi   Pajero  178.0   900000.0          0           10   \n",
       "3  1000055374      Subaru  Outback  167.0  1500000.0          0            1   \n",
       "4  1000070327        Ford   Mondeo  199.0   814302.0          1            6   \n",
       "\n",
       "   End_month  Is_renewed  Years_renewed  Price_change  Sales_channel  \\\n",
       "0          2           0              1          0.04             52   \n",
       "1          4           1              0         -0.28             52   \n",
       "2         10           1              0         -0.01             50   \n",
       "3          1           1              0         -0.10             50   \n",
       "4          6           0              3         -0.21             52   \n",
       "\n",
       "           Fillial   Agent  Min_age  Min_exp M_F           Region  OSAGO  \\\n",
       "0  Санкт-Петербург   245.0       58        4   F  Санкт-Петербург      1   \n",
       "1  Санкт-Петербург   493.0       52       18   F       Мурманская      0   \n",
       "2           Москва     NaN       41       17   M           Москва      0   \n",
       "3           Москва     NaN       34       15   M           Москва      0   \n",
       "4  Санкт-Петербург  1096.0       43       17   M  Санкт-Петербург      0   \n",
       "\n",
       "   Deductible  \n",
       "0         0.0  \n",
       "1     15000.0  \n",
       "2     20000.0  \n",
       "3     10000.0  \n",
       "4     20000.0  "
      ]
     },
     "execution_count": 4,
     "metadata": {},
     "output_type": "execute_result"
    }
   ],
   "source": [
    "df.head()"
   ]
  },
  {
   "cell_type": "markdown",
   "metadata": {},
   "source": [
    "#### Выведем пропуски"
   ]
  },
  {
   "cell_type": "code",
   "execution_count": 5,
   "metadata": {},
   "outputs": [
    {
     "data": {
      "text/plain": [
       "ID                   0\n",
       "Make                 0\n",
       "Model                0\n",
       "Power                0\n",
       "Price                0\n",
       "Is_credit            0\n",
       "Begin_month          0\n",
       "End_month            0\n",
       "Is_renewed           0\n",
       "Years_renewed        0\n",
       "Price_change         0\n",
       "Sales_channel        0\n",
       "Fillial              0\n",
       "Agent            12699\n",
       "Min_age              0\n",
       "Min_exp              0\n",
       "M_F                  0\n",
       "Region             574\n",
       "OSAGO                0\n",
       "Deductible           0\n",
       "dtype: int64"
      ]
     },
     "execution_count": 5,
     "metadata": {},
     "output_type": "execute_result"
    }
   ],
   "source": [
    "df.isnull().sum()"
   ]
  },
  {
   "cell_type": "markdown",
   "metadata": {},
   "source": [
    "#### Посмотрим на количество уникальных значений по каждому предиктору"
   ]
  },
  {
   "cell_type": "code",
   "execution_count": 6,
   "metadata": {},
   "outputs": [
    {
     "name": "stdout",
     "output_type": "stream",
     "text": [
      "ID 54481\n",
      "Make 78\n",
      "Model 510\n",
      "Power 325\n",
      "Price 28293\n",
      "Is_credit 2\n",
      "Begin_month 12\n",
      "End_month 12\n",
      "Is_renewed 2\n",
      "Years_renewed 11\n",
      "Price_change 377\n",
      "Sales_channel 63\n",
      "Fillial 2\n",
      "Agent 1219\n",
      "Min_age 68\n",
      "Min_exp 109\n",
      "M_F 2\n",
      "Region 81\n",
      "OSAGO 2\n",
      "Deductible 157\n"
     ]
    }
   ],
   "source": [
    "for i in df.columns:\n",
    "    print(i, df[i].nunique())"
   ]
  },
  {
   "cell_type": "markdown",
   "metadata": {},
   "source": [
    "#### Удалим переменную ID как не информативную"
   ]
  },
  {
   "cell_type": "code",
   "execution_count": 7,
   "metadata": {},
   "outputs": [],
   "source": [
    "df.drop('ID', axis = 1, inplace = True)"
   ]
  },
  {
   "cell_type": "markdown",
   "metadata": {},
   "source": [
    "#### Выведем дубли"
   ]
  },
  {
   "cell_type": "code",
   "execution_count": 8,
   "metadata": {},
   "outputs": [
    {
     "data": {
      "text/html": [
       "<div>\n",
       "<style scoped>\n",
       "    .dataframe tbody tr th:only-of-type {\n",
       "        vertical-align: middle;\n",
       "    }\n",
       "\n",
       "    .dataframe tbody tr th {\n",
       "        vertical-align: top;\n",
       "    }\n",
       "\n",
       "    .dataframe thead th {\n",
       "        text-align: right;\n",
       "    }\n",
       "</style>\n",
       "<table border=\"1\" class=\"dataframe\">\n",
       "  <thead>\n",
       "    <tr style=\"text-align: right;\">\n",
       "      <th></th>\n",
       "      <th>Make</th>\n",
       "      <th>Model</th>\n",
       "      <th>Power</th>\n",
       "      <th>Price</th>\n",
       "      <th>Is_credit</th>\n",
       "      <th>Begin_month</th>\n",
       "      <th>End_month</th>\n",
       "      <th>Is_renewed</th>\n",
       "      <th>Years_renewed</th>\n",
       "      <th>Price_change</th>\n",
       "      <th>Sales_channel</th>\n",
       "      <th>Fillial</th>\n",
       "      <th>Agent</th>\n",
       "      <th>Min_age</th>\n",
       "      <th>Min_exp</th>\n",
       "      <th>M_F</th>\n",
       "      <th>Region</th>\n",
       "      <th>OSAGO</th>\n",
       "      <th>Deductible</th>\n",
       "    </tr>\n",
       "  </thead>\n",
       "  <tbody>\n",
       "    <tr>\n",
       "      <th>16364</th>\n",
       "      <td>Volkswagen</td>\n",
       "      <td>Jetta</td>\n",
       "      <td>105.0</td>\n",
       "      <td>596000.0</td>\n",
       "      <td>1</td>\n",
       "      <td>8</td>\n",
       "      <td>8</td>\n",
       "      <td>0</td>\n",
       "      <td>0</td>\n",
       "      <td>0.00</td>\n",
       "      <td>52</td>\n",
       "      <td>Санкт-Петербург</td>\n",
       "      <td>330.0</td>\n",
       "      <td>40</td>\n",
       "      <td>20</td>\n",
       "      <td>M</td>\n",
       "      <td>Ленинградская</td>\n",
       "      <td>1</td>\n",
       "      <td>15000.0</td>\n",
       "    </tr>\n",
       "    <tr>\n",
       "      <th>31866</th>\n",
       "      <td>Chevrolet</td>\n",
       "      <td>Cruze</td>\n",
       "      <td>109.0</td>\n",
       "      <td>553105.0</td>\n",
       "      <td>0</td>\n",
       "      <td>7</td>\n",
       "      <td>7</td>\n",
       "      <td>0</td>\n",
       "      <td>0</td>\n",
       "      <td>-1.00</td>\n",
       "      <td>27</td>\n",
       "      <td>Москва</td>\n",
       "      <td>696.0</td>\n",
       "      <td>40</td>\n",
       "      <td>15</td>\n",
       "      <td>M</td>\n",
       "      <td>Москва</td>\n",
       "      <td>1</td>\n",
       "      <td>30000.0</td>\n",
       "    </tr>\n",
       "    <tr>\n",
       "      <th>40926</th>\n",
       "      <td>Toyota</td>\n",
       "      <td>Другая модель (Легковое ТС)</td>\n",
       "      <td>146.0</td>\n",
       "      <td>1512000.0</td>\n",
       "      <td>0</td>\n",
       "      <td>4</td>\n",
       "      <td>4</td>\n",
       "      <td>0</td>\n",
       "      <td>0</td>\n",
       "      <td>0.18</td>\n",
       "      <td>55</td>\n",
       "      <td>Москва</td>\n",
       "      <td>1096.0</td>\n",
       "      <td>36</td>\n",
       "      <td>17</td>\n",
       "      <td>F</td>\n",
       "      <td>Москва</td>\n",
       "      <td>1</td>\n",
       "      <td>0.0</td>\n",
       "    </tr>\n",
       "    <tr>\n",
       "      <th>41381</th>\n",
       "      <td>Daewoo</td>\n",
       "      <td>Gentra</td>\n",
       "      <td>107.0</td>\n",
       "      <td>439000.0</td>\n",
       "      <td>1</td>\n",
       "      <td>5</td>\n",
       "      <td>5</td>\n",
       "      <td>0</td>\n",
       "      <td>0</td>\n",
       "      <td>-1.00</td>\n",
       "      <td>52</td>\n",
       "      <td>Санкт-Петербург</td>\n",
       "      <td>782.0</td>\n",
       "      <td>44</td>\n",
       "      <td>22</td>\n",
       "      <td>M</td>\n",
       "      <td>Ленинградская</td>\n",
       "      <td>1</td>\n",
       "      <td>15000.0</td>\n",
       "    </tr>\n",
       "  </tbody>\n",
       "</table>\n",
       "</div>"
      ],
      "text/plain": [
       "             Make                        Model  Power      Price  Is_credit  \\\n",
       "16364  Volkswagen                        Jetta  105.0   596000.0          1   \n",
       "31866   Chevrolet                        Cruze  109.0   553105.0          0   \n",
       "40926      Toyota  Другая модель (Легковое ТС)  146.0  1512000.0          0   \n",
       "41381      Daewoo                       Gentra  107.0   439000.0          1   \n",
       "\n",
       "       Begin_month  End_month  Is_renewed  Years_renewed  Price_change  \\\n",
       "16364            8          8           0              0          0.00   \n",
       "31866            7          7           0              0         -1.00   \n",
       "40926            4          4           0              0          0.18   \n",
       "41381            5          5           0              0         -1.00   \n",
       "\n",
       "       Sales_channel          Fillial   Agent  Min_age  Min_exp M_F  \\\n",
       "16364             52  Санкт-Петербург   330.0       40       20   M   \n",
       "31866             27           Москва   696.0       40       15   M   \n",
       "40926             55           Москва  1096.0       36       17   F   \n",
       "41381             52  Санкт-Петербург   782.0       44       22   M   \n",
       "\n",
       "              Region  OSAGO  Deductible  \n",
       "16364  Ленинградская      1     15000.0  \n",
       "31866         Москва      1     30000.0  \n",
       "40926         Москва      1         0.0  \n",
       "41381  Ленинградская      1     15000.0  "
      ]
     },
     "execution_count": 8,
     "metadata": {},
     "output_type": "execute_result"
    }
   ],
   "source": [
    "df[df.duplicated()]"
   ]
  },
  {
   "cell_type": "markdown",
   "metadata": {},
   "source": [
    "#### Удалим дубли на месте"
   ]
  },
  {
   "cell_type": "code",
   "execution_count": 9,
   "metadata": {},
   "outputs": [],
   "source": [
    "df.drop_duplicates(subset=None, keep='first',inplace=True)"
   ]
  },
  {
   "cell_type": "markdown",
   "metadata": {},
   "source": [
    "#### Построим матрицу корелляции предикторов для выявления сильно кореллирующих предикторов между собой"
   ]
  },
  {
   "cell_type": "code",
   "execution_count": 10,
   "metadata": {},
   "outputs": [],
   "source": [
    "corr_matrix = df.corr()"
   ]
  },
  {
   "cell_type": "code",
   "execution_count": 11,
   "metadata": {},
   "outputs": [
    {
     "data": {
      "image/png": "[encoded data removed]",
      "text/plain": [
       "<matplotlib.figure.Figure at 0x21c07c6cc50>"
      ]
     },
     "metadata": {},
     "output_type": "display_data"
    }
   ],
   "source": [
    "import seaborn as sns\n",
    "sns.heatmap(corr_matrix);"
   ]
  },
  {
   "cell_type": "markdown",
   "metadata": {},
   "source": [
    "#### Удалим один из предикторов - Begin_month или End_month, поскольку они кореллируют между собой. Корелляция очень сильная - 0.99"
   ]
  },
  {
   "cell_type": "code",
   "execution_count": 12,
   "metadata": {},
   "outputs": [],
   "source": [
    "df.drop('End_month', axis = 1, inplace = True)"
   ]
  },
  {
   "cell_type": "markdown",
   "metadata": {},
   "source": [
    "#### Предикторы Agent, Begin_month, Sales_channel по факту являются категориальными. Выполним соответсвующие преобразования."
   ]
  },
  {
   "cell_type": "code",
   "execution_count": 13,
   "metadata": {},
   "outputs": [],
   "source": [
    "df['Agent'] = df['Agent'].astype('object', copy = False)\n",
    "df['Sales_channel'] = df['Sales_channel'].astype('object', copy = False)\n",
    "df['Begin_month'] = df['Begin_month'].astype('object', copy = False)"
   ]
  },
  {
   "cell_type": "markdown",
   "metadata": {},
   "source": [
    "#### Импутируем пропуски в переменных Agent и Region"
   ]
  },
  {
   "cell_type": "code",
   "execution_count": 14,
   "metadata": {},
   "outputs": [],
   "source": [
    "df['Agent'].fillna('NOT_AGENT', inplace = True) # Поскольку в Agent пропуск скорее всего не случаен и означает, что продажу осуществил не агент.\n",
    "df['Region'].fillna('Unknown_region', inplace = True)"
   ]
  },
  {
   "cell_type": "markdown",
   "metadata": {},
   "source": [
    "#### Произведем укрупнение редких категорий"
   ]
  },
  {
   "cell_type": "code",
   "execution_count": 15,
   "metadata": {},
   "outputs": [],
   "source": [
    "for i in ['Make', 'Model', 'Agent', 'Sales_channel', 'Region']:\n",
    "    for j in df[i].unique():\n",
    "        if df[df[i] == j][i].count() < 20:\n",
    "            df[i].replace(j, 'OTHER', inplace = True)       "
   ]
  },
  {
   "cell_type": "code",
   "execution_count": 16,
   "metadata": {},
   "outputs": [],
   "source": [
    "# Переведем категориальную переменную M_F в бинарную (1, 0). \n",
    "df['M_F'] =  df['M_F'].map(lambda x: 1 if x == 'M' else 0)"
   ]
  },
  {
   "cell_type": "code",
   "execution_count": 17,
   "metadata": {},
   "outputs": [],
   "source": [
    "# Также добавим индикатор пропуска в предикторе Agent\n",
    "df['Is_Agent'] =  df['Agent'].map(lambda x: 1 if x == 'NOT_AGENT' else 0)"
   ]
  },
  {
   "cell_type": "code",
   "execution_count": 18,
   "metadata": {},
   "outputs": [],
   "source": [
    "# Создадим также индикатор уменьшения/увеличения премии признака Price_change для случаев >0 <0 и равно 0.\n",
    "df['Price_change_ABC'] =  df['Price_change'].map(lambda x: np.sign(x) if x !=0 else 0)"
   ]
  },
  {
   "cell_type": "code",
   "execution_count": 19,
   "metadata": {},
   "outputs": [],
   "source": [
    "# а также индикатор стоимости франшизы - 0 и не 0.\n",
    "df['Deductible_Is_Zero'] = df['Deductible'].map(lambda x: 1 if x==0 else 0)"
   ]
  },
  {
   "cell_type": "code",
   "execution_count": 20,
   "metadata": {},
   "outputs": [],
   "source": [
    "# Min_exp - скорее всего косяк в указании года. Если год > 1900 - заменить значение в ячейке с i на (2018 - i)\n",
    "df['Min_exp'] = df['Min_exp'].map(lambda x: x if x<1900 else (2018-x))"
   ]
  },
  {
   "cell_type": "markdown",
   "metadata": {},
   "source": [
    "#### Сделаем биннинг количественных переменных: Power, Price,  Min_age, Min_exp"
   ]
  },
  {
   "cell_type": "code",
   "execution_count": 21,
   "metadata": {},
   "outputs": [],
   "source": [
    "# разобьем наш датасет на обучение и тест\n",
    "train = df.sample(frac = 0.7, random_state = 200)\n",
    "test = df.drop(train.index)"
   ]
  },
  {
   "cell_type": "code",
   "execution_count": 22,
   "metadata": {},
   "outputs": [],
   "source": [
    "# Создадим новый признак Power_tax, который отражает коэффициент налогообложения\n",
    "bins_Power = [-np.inf, 100, 150, 200, 250, np.inf]\n",
    "\n",
    "train['Power_tax'] = pd.cut(train['Power'], bins_Power)\n",
    "test['Power_tax'] = pd.cut(test['Power'], bins_Power)"
   ]
  },
  {
   "cell_type": "code",
   "execution_count": 23,
   "metadata": {},
   "outputs": [],
   "source": [
    "# Создадим новый признак Power_OSAGO, который отражает коэффициент мощности для расчета OSAGO. \n",
    "# Если OSAGO нет, то можно поставить 0 в данном признаке.\n",
    "bins_OSAGO = [-np.inf, 70, 100, 120, 150, np.inf]\n",
    "\n",
    "train['Power_OSAGO'] = pd.cut(train['Power'], bins_OSAGO)\n",
    "test['Power_OSAGO'] = pd.cut(test['Power'], bins_OSAGO)"
   ]
  },
  {
   "cell_type": "code",
   "execution_count": 24,
   "metadata": {},
   "outputs": [
    {
     "data": {
      "text/plain": [
       "(120.0, 150.0]    16466\n",
       "(150.0, inf]      12246\n",
       "(100.0, 120.0]     6547\n",
       "(70.0, 100.0]      2742\n",
       "(-inf, 70.0]        133\n",
       "Name: Power_OSAGO, dtype: int64"
      ]
     },
     "execution_count": 24,
     "metadata": {},
     "output_type": "execute_result"
    }
   ],
   "source": [
    "train['Power_OSAGO'].value_counts()"
   ]
  },
  {
   "cell_type": "code",
   "execution_count": 25,
   "metadata": {},
   "outputs": [],
   "source": [
    "# Присвоим каждой категории соответствующее численное значение.\n",
    "dict_tax = {'(-inf, 100.0]':2.5,\n",
    "               '(100.0, 150.0]':3.5,\n",
    "               '(150.0, 200.0]':5, \n",
    "               '(200.0, 250.0]':7.5,\n",
    "               '(250.0, inf]':15}\n",
    "\n",
    "train['Power_tax'] = train['Power_tax'].astype('str', copy = False)\n",
    "test['Power_tax'] = test['Power_tax'].astype('str', copy = False)\n",
    "\n",
    "train['Power_tax'] = train['Power_tax'].map(dict_tax)\n",
    "test['Power_tax'] = test['Power_tax'].map(dict_tax)"
   ]
  },
  {
   "cell_type": "code",
   "execution_count": 26,
   "metadata": {},
   "outputs": [],
   "source": [
    "dict_OSAGO = {'(-inf, 70.0]':0.6,\n",
    "               '(70.0, 100.0]':1.1,\n",
    "               '(100.0, 120.0]':1.2, \n",
    "               '(120.0, 150.0]':1.4,\n",
    "               '(150.0, inf]':1.6}\n",
    "\n",
    "train['Power_OSAGO'] = train['Power_OSAGO'].astype('str', copy = False)\n",
    "test['Power_OSAGO'] = test['Power_OSAGO'].astype('str', copy = False)\n",
    "\n",
    "train['Power_OSAGO'] = train['Power_OSAGO'].map(dict_OSAGO)\n",
    "test['Power_OSAGO'] = test['Power_OSAGO'].map(dict_OSAGO)"
   ]
  },
  {
   "cell_type": "code",
   "execution_count": 27,
   "metadata": {},
   "outputs": [],
   "source": [
    "# Выполним биннинг признака Price на основании градации цены автомобиля\n",
    "bins_Price = [-np.inf, 600000, 1100000, 1600000, 2700000, np.inf]\n",
    "\n",
    "train['Price_bins'] = pd.cut(train['Price'], bins_Price)\n",
    "test['Price_bins'] = pd.cut(test['Price'], bins_Price)\n",
    "\n",
    "train['Price_bins'] = train['Price_bins'].astype('str', copy = False)\n",
    "test['Price_bins'] = test['Price_bins'].astype('str', copy = False)"
   ]
  },
  {
   "cell_type": "code",
   "execution_count": 28,
   "metadata": {},
   "outputs": [],
   "source": [
    "# Выполним кодирование переменных Price_bins и Price_change_ABC\n",
    "for i in ['Price_bins', 'Price_change_ABC']:\n",
    "    freq_encoding = train[i].value_counts() / len(train[i])\n",
    "    train[i + 'freq'] = train[i].map(freq_encoding)\n",
    "    test[i + 'freq'] = test[i].map(freq_encoding)"
   ]
  },
  {
   "cell_type": "code",
   "execution_count": 29,
   "metadata": {},
   "outputs": [],
   "source": [
    "# Удалим соответствующие столбцы, для которых уже произведено кодирование\n",
    "train.drop(['Price_bins', 'Price_change_ABC'], axis = 1, inplace = True)\n",
    "test.drop(['Price_bins', 'Price_change_ABC'], axis = 1, inplace = True)"
   ]
  },
  {
   "cell_type": "code",
   "execution_count": 30,
   "metadata": {},
   "outputs": [
    {
     "data": {
      "image/png": "[encoded data removed]",
      "text/plain": [
       "<matplotlib.figure.Figure at 0x21c08323ac8>"
      ]
     },
     "metadata": {},
     "output_type": "display_data"
    }
   ],
   "source": [
    "# Выполним биннинг признака Min_age. Построим график boxplot\n",
    "sns.boxplot(train['Min_age']);"
   ]
  },
  {
   "cell_type": "code",
   "execution_count": 31,
   "metadata": {},
   "outputs": [
    {
     "name": "stderr",
     "output_type": "stream",
     "text": [
      "C:\\Users\\mi\\Anaconda3\\lib\\site-packages\\scipy\\stats\\stats.py:1633: FutureWarning: Using a non-tuple sequence for multidimensional indexing is deprecated; use `arr[tuple(seq)]` instead of `arr[seq]`. In the future this will be interpreted as an array index, `arr[np.array(seq)]`, which will result either in an error or a different result.\n",
      "  return np.add.reduce(sorted[indexer] * weights, axis=axis) / sumval\n"
     ]
    },
    {
     "data": {
      "image/png": "[encoded data removed]",
      "text/plain": [
       "<matplotlib.figure.Figure at 0x21c0d2019e8>"
      ]
     },
     "metadata": {},
     "output_type": "display_data"
    }
   ],
   "source": [
    "# Построим распределение данного признака\n",
    "from scipy.stats import norm\n",
    "sns.distplot(train['Min_age'], fit=norm, kde=False);"
   ]
  },
  {
   "cell_type": "code",
   "execution_count": 32,
   "metadata": {},
   "outputs": [],
   "source": [
    "# Выполним биннинг данного признака\n",
    "bins_Age = [17, 26, 33, 38, 45, 55, np.inf]\n",
    "\n",
    "train['Min_age_bins'] = pd.cut(train['Min_age'], bins_Age)\n",
    "test['Min_age_bins'] = pd.cut(test['Min_age'], bins_Age)\n",
    "\n",
    "train['Min_age_bins'] = train['Min_age_bins'].astype('str', copy = False)\n",
    "test['Min_age_bins'] = test['Min_age_bins'].astype('str', copy = False)"
   ]
  },
  {
   "cell_type": "code",
   "execution_count": 33,
   "metadata": {},
   "outputs": [
    {
     "data": {
      "image/png": "[encoded data removed]",
      "text/plain": [
       "<matplotlib.figure.Figure at 0x21c082cff98>"
      ]
     },
     "metadata": {},
     "output_type": "display_data"
    }
   ],
   "source": [
    "# Выполним биннинг признака Min_exp. Построим график boxplot\n",
    "sns.boxplot(train['Min_exp']);"
   ]
  },
  {
   "cell_type": "code",
   "execution_count": 34,
   "metadata": {},
   "outputs": [
    {
     "name": "stderr",
     "output_type": "stream",
     "text": [
      "C:\\Users\\mi\\Anaconda3\\lib\\site-packages\\scipy\\stats\\stats.py:1633: FutureWarning: Using a non-tuple sequence for multidimensional indexing is deprecated; use `arr[tuple(seq)]` instead of `arr[seq]`. In the future this will be interpreted as an array index, `arr[np.array(seq)]`, which will result either in an error or a different result.\n",
      "  return np.add.reduce(sorted[indexer] * weights, axis=axis) / sumval\n"
     ]
    },
    {
     "data": {
      "image/png": "[encoded data removed]",
      "text/plain": [
       "<matplotlib.figure.Figure at 0x21c0d1f7908>"
      ]
     },
     "metadata": {},
     "output_type": "display_data"
    }
   ],
   "source": [
    "# Построим распределение данного признака\n",
    "sns.distplot(train['Min_exp'], fit=norm, kde=False);"
   ]
  },
  {
   "cell_type": "code",
   "execution_count": 35,
   "metadata": {},
   "outputs": [],
   "source": [
    "bins_Exp = [-np.inf, 9, 13, 18, 25, 35, np.inf]\n",
    "\n",
    "train['Min_exp_bins'] = pd.cut(train['Min_exp'], bins_Exp)\n",
    "test['Min_exp_bins'] = pd.cut(test['Min_exp'], bins_Exp)\n",
    "\n",
    "train['Min_exp_bins'] = train['Min_exp_bins'].astype('str', copy = False)\n",
    "test['Min_exp_bins'] = test['Min_exp_bins'].astype('str', copy = False)"
   ]
  },
  {
   "cell_type": "code",
   "execution_count": 36,
   "metadata": {},
   "outputs": [],
   "source": [
    "# Закодируем получившиеся категориальные переменные\n",
    "for i in ['Min_age_bins', 'Min_exp_bins']:\n",
    "    freq_encoding = train[i].value_counts() / len(train[i])\n",
    "    train[i + 'freq'] = train[i].map(freq_encoding)\n",
    "    test[i + 'freq'] = test[i].map(freq_encoding)"
   ]
  },
  {
   "cell_type": "code",
   "execution_count": 37,
   "metadata": {},
   "outputs": [],
   "source": [
    "# Удалим закодированные переменные\n",
    "train.drop(['Min_age_bins', 'Min_exp_bins'], axis = 1, inplace = True)\n",
    "test.drop(['Min_age_bins', 'Min_exp_bins'], axis = 1, inplace = True)"
   ]
  },
  {
   "cell_type": "code",
   "execution_count": 38,
   "metadata": {},
   "outputs": [],
   "source": [
    "# Заменим значения категориальной переменной Filial на 0 и 1 \n",
    "dict_Fillial = {'Москва':1,\n",
    "               'Санкт-Петербург':0}\n",
    "\n",
    "train['Fillial'] = train['Fillial'].astype('str', copy = False)\n",
    "test['Fillial'] = test['Fillial'].astype('str', copy = False)\n",
    "\n",
    "train['Fillial'] = train['Fillial'].map(dict_Fillial)\n",
    "test['Fillial'] = test['Fillial'].map(dict_Fillial)"
   ]
  },
  {
   "cell_type": "markdown",
   "metadata": {},
   "source": [
    "#### Выполним кодирование средним значением целевой переменной по категории для признаков: 'Make', 'Model', 'Agent', 'Sales_channel', 'Region', 'Begin_month', 'Price_binsfreq', 'Price_change_ABCfreq', 'Min_age_binsfreq', 'Min_exp_binsfreq'"
   ]
  },
  {
   "cell_type": "code",
   "execution_count": 39,
   "metadata": {},
   "outputs": [],
   "source": [
    "cat_list = ['Make', 'Model', 'Agent', 'Sales_channel', 'Region', 'Begin_month', \n",
    "            'Price_binsfreq', 'Price_change_ABCfreq', 'Min_age_binsfreq', 'Min_exp_binsfreq']\n",
    "\n",
    "for i in cat_list:\n",
    "    train[i + ' mean'] = train[i].map(train.groupby(i)['Is_renewed'].mean())\n",
    "    test[i + ' mean'] = test[i].map(train.groupby(i)['Is_renewed'].mean())"
   ]
  },
  {
   "cell_type": "code",
   "execution_count": 40,
   "metadata": {},
   "outputs": [],
   "source": [
    "# Удалим соответствующие столбцы\n",
    "train.drop(['Make', 'Model', 'Agent', 'Sales_channel', 'Region'], axis = 1, inplace = True)\n",
    "test.drop(['Make', 'Model', 'Agent', 'Sales_channel', 'Region'], axis = 1, inplace = True)"
   ]
  },
  {
   "cell_type": "markdown",
   "metadata": {},
   "source": [
    "#### Выделим целевую переменную"
   ]
  },
  {
   "cell_type": "code",
   "execution_count": 41,
   "metadata": {},
   "outputs": [],
   "source": [
    "y_train = train['Is_renewed']\n",
    "train.drop('Is_renewed', axis=1, inplace = True)\n",
    "\n",
    "y_test = test['Is_renewed']\n",
    "test.drop('Is_renewed', axis=1, inplace = True)"
   ]
  },
  {
   "cell_type": "markdown",
   "metadata": {},
   "source": [
    "#### Применим преобразование Бокса-Кокса для приведения численных признаков к нормальному виду."
   ]
  },
  {
   "cell_type": "code",
   "execution_count": 42,
   "metadata": {},
   "outputs": [
    {
     "name": "stdout",
     "output_type": "stream",
     "text": [
      "predictor: Power Lambda: 0.199787\n",
      "predictor: Price Lambda: 0.170121\n",
      "predictor: Price_change Lambda: 0.153142\n",
      "predictor: Min_age Lambda: 0.149378\n",
      "predictor: Min_exp Lambda: 0.529827\n",
      "predictor: Deductible Lambda: -0.076371\n",
      "predictor: Price_binsfreq Lambda: 1.698806\n",
      "predictor: Min_age_binsfreq Lambda: 2.725047\n",
      "predictor: Min_exp_binsfreq Lambda: 1.240343\n",
      "predictor: Make mean Lambda: 5.082563\n",
      "predictor: Model mean Lambda: 2.096813\n",
      "predictor: Agent mean Lambda: 2.547591\n",
      "predictor: Sales_channel mean Lambda: 2.424381\n",
      "predictor: Region mean Lambda: 5.075119\n"
     ]
    }
   ],
   "source": [
    "from scipy.stats import boxcox\n",
    "\n",
    "for i in ['Power', 'Price', 'Price_change', 'Min_age', 'Min_exp', \n",
    "          'Deductible', 'Price_binsfreq', 'Min_age_binsfreq', \n",
    "          'Min_exp_binsfreq', 'Make mean', 'Model mean', 'Agent mean', \n",
    "         'Sales_channel mean', 'Region mean']:\n",
    "    train[i].replace(0.0, 0.001, inplace = True) # Заменяем 0 на стремящееся к нулю значение\n",
    "    transformed, lam = boxcox(np.absolute(train[i]))\n",
    "    print('predictor:', i, 'Lambda: %f' % lam)\n",
    "    if lam < -0.25:\n",
    "        train[i] = np.sign(train[i]) * (np.absolute(train[i])** (-1/2))\n",
    "        test[i] = np.sign(test[i]) * (np.absolute(test[i])** (-1/2))\n",
    "    if -0.25 <= lam <= 0.25:\n",
    "        train[i] = np.log(np.absolute(train[i])+ 0.001)\n",
    "        test[i] = np.log(np.absolute(test[i])+ 0.001)\n",
    "    if 0.25 < lam < 0.75:\n",
    "        train[i] = np.sign(train[i]) * (np.absolute(train[i])** (1/2))\n",
    "        test[i] = np.sign(test[i]) * (np.absolute(test[i])** (1/2))"
   ]
  },
  {
   "cell_type": "markdown",
   "metadata": {},
   "source": [
    "#### Выполним стандартизацию (масштабирование) признаков"
   ]
  },
  {
   "cell_type": "code",
   "execution_count": 43,
   "metadata": {},
   "outputs": [],
   "source": [
    "from sklearn.preprocessing import StandardScaler\n",
    " \n",
    "scaler = StandardScaler()\n",
    "\n",
    "scaler.fit(train)\n",
    "\n",
    "train_s = scaler.transform(train)\n",
    "test_s = scaler.transform(test)"
   ]
  },
  {
   "cell_type": "markdown",
   "metadata": {},
   "source": [
    "#### Для начала построим модель логистической регрессии. В качестве метрики будем использовать величину AUC_ROC."
   ]
  },
  {
   "cell_type": "code",
   "execution_count": 44,
   "metadata": {},
   "outputs": [
    {
     "name": "stdout",
     "output_type": "stream",
     "text": [
      "AUC на тестовой выборке: 0.665\n",
      "Наилучшее значение гиперпараметров: {'C': 1.08}\n",
      "Наилучшее значение AUC: 0.686\n"
     ]
    }
   ],
   "source": [
    "from sklearn.linear_model import LogisticRegression\n",
    "from sklearn.metrics import roc_auc_score\n",
    "from sklearn.model_selection import GridSearchCV\n",
    "from sklearn.model_selection import StratifiedKFold\n",
    "\n",
    "logreg_grid = LogisticRegression(penalty = 'l2', solver = 'lbfgs') # параметры C и 'l2' были также ранее подобраны на кросс-валидации\n",
    "\n",
    "param_grid = {'C': [0.9, 0.92, 0.94, 0.96, 0.98, 1.02, 1.04, 1.06, 1.08]} # Задаем решетку гиперпараметров. \n",
    "\n",
    "stratcv = StratifiedKFold(n_splits=5) # Указываем количество блоков для кросс-валидации.\n",
    "\n",
    "#создаем экземпляр класса GridSearchCV\n",
    "grid_search = GridSearchCV(logreg_grid, param_grid, \n",
    "                           scoring='roc_auc', \n",
    "                           n_jobs=-1, cv=stratcv)\n",
    "\n",
    "grid_search.fit(train_s, y_train)\n",
    "\n",
    "test_score = roc_auc_score(y_test, grid_search.predict_proba(test_s)[:, 1])\n",
    "#смотрим результаты GridSearchCV\n",
    "print('AUC на тестовой выборке: {:.3f}'.format(test_score))\n",
    "print('Наилучшее значение гиперпараметров: {}'.format(grid_search.best_params_))\n",
    "print('Наилучшее значение AUC: {:.3f}'.format(grid_search.best_score_))"
   ]
  },
  {
   "cell_type": "markdown",
   "metadata": {},
   "source": [
    "#### Выведем коэффициенты построенной логистической регрессии"
   ]
  },
  {
   "cell_type": "code",
   "execution_count": 45,
   "metadata": {},
   "outputs": [],
   "source": [
    "clf = LogisticRegression(penalty = 'l2', C = 1.08, solver = 'lbfgs')\n",
    "clf.fit(train_s, y_train)\n",
    "\n",
    "coefficients = pd.concat([pd.DataFrame(train.columns),pd.DataFrame(np.transpose(clf.coef_))], axis = 1)\n",
    "coefficients.columns = ['Feature','Value']"
   ]
  },
  {
   "cell_type": "code",
   "execution_count": 46,
   "metadata": {},
   "outputs": [
    {
     "data": {
      "text/html": [
       "<div>\n",
       "<style scoped>\n",
       "    .dataframe tbody tr th:only-of-type {\n",
       "        vertical-align: middle;\n",
       "    }\n",
       "\n",
       "    .dataframe tbody tr th {\n",
       "        vertical-align: top;\n",
       "    }\n",
       "\n",
       "    .dataframe thead th {\n",
       "        text-align: right;\n",
       "    }\n",
       "</style>\n",
       "<table border=\"1\" class=\"dataframe\">\n",
       "  <thead>\n",
       "    <tr style=\"text-align: right;\">\n",
       "      <th></th>\n",
       "      <th>Feature</th>\n",
       "      <th>Value</th>\n",
       "    </tr>\n",
       "  </thead>\n",
       "  <tbody>\n",
       "    <tr>\n",
       "      <th>11</th>\n",
       "      <td>Deductible</td>\n",
       "      <td>-1.743209</td>\n",
       "    </tr>\n",
       "    <tr>\n",
       "      <th>13</th>\n",
       "      <td>Deductible_Is_Zero</td>\n",
       "      <td>-1.651648</td>\n",
       "    </tr>\n",
       "    <tr>\n",
       "      <th>5</th>\n",
       "      <td>Price_change</td>\n",
       "      <td>-0.638728</td>\n",
       "    </tr>\n",
       "    <tr>\n",
       "      <th>12</th>\n",
       "      <td>Is_Agent</td>\n",
       "      <td>-0.049763</td>\n",
       "    </tr>\n",
       "    <tr>\n",
       "      <th>14</th>\n",
       "      <td>Power_tax</td>\n",
       "      <td>-0.048659</td>\n",
       "    </tr>\n",
       "    <tr>\n",
       "      <th>9</th>\n",
       "      <td>M_F</td>\n",
       "      <td>-0.035758</td>\n",
       "    </tr>\n",
       "    <tr>\n",
       "      <th>20</th>\n",
       "      <td>Make mean</td>\n",
       "      <td>-0.026503</td>\n",
       "    </tr>\n",
       "    <tr>\n",
       "      <th>18</th>\n",
       "      <td>Min_age_binsfreq</td>\n",
       "      <td>-0.019581</td>\n",
       "    </tr>\n",
       "    <tr>\n",
       "      <th>15</th>\n",
       "      <td>Power_OSAGO</td>\n",
       "      <td>-0.011695</td>\n",
       "    </tr>\n",
       "    <tr>\n",
       "      <th>7</th>\n",
       "      <td>Min_age</td>\n",
       "      <td>-0.007072</td>\n",
       "    </tr>\n",
       "    <tr>\n",
       "      <th>3</th>\n",
       "      <td>Begin_month</td>\n",
       "      <td>0.003630</td>\n",
       "    </tr>\n",
       "    <tr>\n",
       "      <th>2</th>\n",
       "      <td>Is_credit</td>\n",
       "      <td>0.006614</td>\n",
       "    </tr>\n",
       "    <tr>\n",
       "      <th>16</th>\n",
       "      <td>Price_binsfreq</td>\n",
       "      <td>0.008731</td>\n",
       "    </tr>\n",
       "    <tr>\n",
       "      <th>29</th>\n",
       "      <td>Min_exp_binsfreq mean</td>\n",
       "      <td>0.019218</td>\n",
       "    </tr>\n",
       "    <tr>\n",
       "      <th>26</th>\n",
       "      <td>Price_binsfreq mean</td>\n",
       "      <td>0.032057</td>\n",
       "    </tr>\n",
       "    <tr>\n",
       "      <th>8</th>\n",
       "      <td>Min_exp</td>\n",
       "      <td>0.035541</td>\n",
       "    </tr>\n",
       "    <tr>\n",
       "      <th>6</th>\n",
       "      <td>Fillial</td>\n",
       "      <td>0.035827</td>\n",
       "    </tr>\n",
       "    <tr>\n",
       "      <th>19</th>\n",
       "      <td>Min_exp_binsfreq</td>\n",
       "      <td>0.038008</td>\n",
       "    </tr>\n",
       "    <tr>\n",
       "      <th>1</th>\n",
       "      <td>Price</td>\n",
       "      <td>0.048904</td>\n",
       "    </tr>\n",
       "    <tr>\n",
       "      <th>28</th>\n",
       "      <td>Min_age_binsfreq mean</td>\n",
       "      <td>0.067949</td>\n",
       "    </tr>\n",
       "    <tr>\n",
       "      <th>23</th>\n",
       "      <td>Sales_channel mean</td>\n",
       "      <td>0.089050</td>\n",
       "    </tr>\n",
       "    <tr>\n",
       "      <th>0</th>\n",
       "      <td>Power</td>\n",
       "      <td>0.100620</td>\n",
       "    </tr>\n",
       "    <tr>\n",
       "      <th>10</th>\n",
       "      <td>OSAGO</td>\n",
       "      <td>0.113845</td>\n",
       "    </tr>\n",
       "    <tr>\n",
       "      <th>25</th>\n",
       "      <td>Begin_month mean</td>\n",
       "      <td>0.118601</td>\n",
       "    </tr>\n",
       "    <tr>\n",
       "      <th>24</th>\n",
       "      <td>Region mean</td>\n",
       "      <td>0.170354</td>\n",
       "    </tr>\n",
       "    <tr>\n",
       "      <th>21</th>\n",
       "      <td>Model mean</td>\n",
       "      <td>0.229559</td>\n",
       "    </tr>\n",
       "    <tr>\n",
       "      <th>4</th>\n",
       "      <td>Years_renewed</td>\n",
       "      <td>0.242096</td>\n",
       "    </tr>\n",
       "    <tr>\n",
       "      <th>22</th>\n",
       "      <td>Agent mean</td>\n",
       "      <td>0.260808</td>\n",
       "    </tr>\n",
       "    <tr>\n",
       "      <th>27</th>\n",
       "      <td>Price_change_ABCfreq mean</td>\n",
       "      <td>0.392638</td>\n",
       "    </tr>\n",
       "    <tr>\n",
       "      <th>17</th>\n",
       "      <td>Price_change_ABCfreq</td>\n",
       "      <td>0.568421</td>\n",
       "    </tr>\n",
       "  </tbody>\n",
       "</table>\n",
       "</div>"
      ],
      "text/plain": [
       "                      Feature     Value\n",
       "11                 Deductible -1.743209\n",
       "13         Deductible_Is_Zero -1.651648\n",
       "5                Price_change -0.638728\n",
       "12                   Is_Agent -0.049763\n",
       "14                  Power_tax -0.048659\n",
       "9                         M_F -0.035758\n",
       "20                  Make mean -0.026503\n",
       "18           Min_age_binsfreq -0.019581\n",
       "15                Power_OSAGO -0.011695\n",
       "7                     Min_age -0.007072\n",
       "3                 Begin_month  0.003630\n",
       "2                   Is_credit  0.006614\n",
       "16             Price_binsfreq  0.008731\n",
       "29      Min_exp_binsfreq mean  0.019218\n",
       "26        Price_binsfreq mean  0.032057\n",
       "8                     Min_exp  0.035541\n",
       "6                     Fillial  0.035827\n",
       "19           Min_exp_binsfreq  0.038008\n",
       "1                       Price  0.048904\n",
       "28      Min_age_binsfreq mean  0.067949\n",
       "23         Sales_channel mean  0.089050\n",
       "0                       Power  0.100620\n",
       "10                      OSAGO  0.113845\n",
       "25           Begin_month mean  0.118601\n",
       "24                Region mean  0.170354\n",
       "21                 Model mean  0.229559\n",
       "4               Years_renewed  0.242096\n",
       "22                 Agent mean  0.260808\n",
       "27  Price_change_ABCfreq mean  0.392638\n",
       "17       Price_change_ABCfreq  0.568421"
      ]
     },
     "execution_count": 46,
     "metadata": {},
     "output_type": "execute_result"
    }
   ],
   "source": [
    "coefficients.sort_values(by = 'Value')"
   ]
  },
  {
   "cell_type": "markdown",
   "metadata": {},
   "source": [
    "#### Из данной таблицы мы видим, что наибольший вклад в прогноз (прямая зависимость) вносят признаки - 'Price_change_ABCfreq', 'Price_change_ABCfreq mean', 'Agent mean', 'Years_renewed', 'Model mean', 'Region mean'. Из этого следует, что на прогноз влияют такие вещи, как уменьшение страховой премии, а также количество лет, которые клиент уже обслуживается в компании. Также определенный вклад в прогноз вносят наличие ОСАГО и мощность двигателя."
   ]
  },
  {
   "cell_type": "markdown",
   "metadata": {},
   "source": [
    "#### Из данной таблицы также видно, что такие предикторы как Deductible, Deductible_Is_Zero, Price_change - находятся вверху таблицы (наиболее отрицательные коэффициенты). Соответственно такие показатели как увеличение франшизы, а также увеличение страховой премии - уменьшают вероятность пролонгации договора."
   ]
  },
  {
   "cell_type": "markdown",
   "metadata": {},
   "source": [
    "#### Попробуем построить более сложную модель (возьмем градиентный бустинг)"
   ]
  },
  {
   "cell_type": "code",
   "execution_count": 47,
   "metadata": {},
   "outputs": [
    {
     "name": "stdout",
     "output_type": "stream",
     "text": [
      "AUC на тестовой выборке: 0.730\n",
      "Наилучшее значение гиперпараметров: {'max_depth': 7}\n",
      "Наилучшее значение AUC: 0.739\n"
     ]
    }
   ],
   "source": [
    "import xgboost as XGB\n",
    "Boost = XGB.XGBClassifier(n_jobs=-1, reg_alpha = 0.1, reg_lambda = 0.1,\n",
    "                          min_samples_leaf = 2, min_samples_split = 5, learning_rate = 0.01, n_estimators = 700,\n",
    "                          subsample = 0.9) # Гиперпараметры также несколько раз подбирались на кросс-валидации.\n",
    "\n",
    "param_grid = {'max_depth' : [2,3,4,5,6,7,8]}\n",
    "\n",
    "stratcv = StratifiedKFold(n_splits=5) \n",
    "\n",
    "\n",
    "grid_search = GridSearchCV(Boost, param_grid, \n",
    "                           scoring='roc_auc', \n",
    "                           n_jobs=-1, cv=stratcv)\n",
    "\n",
    "grid_search.fit(train_s, y_train)\n",
    "\n",
    "test_score = roc_auc_score(y_test, grid_search.predict_proba(test_s)[:, 1])\n",
    "\n",
    "print('AUC на тестовой выборке: {:.3f}'.format(test_score))\n",
    "print('Наилучшее значение гиперпараметров: {}'.format(grid_search.best_params_))\n",
    "print('Наилучшее значение AUC: {:.3f}'.format(grid_search.best_score_))"
   ]
  },
  {
   "cell_type": "markdown",
   "metadata": {},
   "source": [
    "#### После построения модели также сделал следующие выводы:\n",
    "#### 1. Предикторы Agent и Model могут нести некоторые модельные риски, поскольку со временем в нашем хранилище может появляться много новых редких категорий, которые не будут учтены в построенной ранее модели.\n",
    "#### 2. Можно было бы добавить признаки - пробег авто; отметка о том, подержаное авто или нет, количество аварий у клиента, количество зарег. авто у клиента. Возможно, они смогут повысить качество модели."
   ]
  },
  {
   "cell_type": "code",
   "execution_count": null,
   "metadata": {},
   "outputs": [],
   "source": []
  }
 ],
 "metadata": {
  "kernelspec": {
   "display_name": "Python 3",
   "language": "python",
   "name": "python3"
  },
  "language_info": {
   "codemirror_mode": {
    "name": "ipython",
    "version": 3
   },
   "file_extension": ".py",
   "mimetype": "text/x-python",
   "name": "python",
   "nbconvert_exporter": "python",
   "pygments_lexer": "ipython3",
   "version": "3.6.4"
  }
 },
 "nbformat": 4,
 "nbformat_minor": 2
}
